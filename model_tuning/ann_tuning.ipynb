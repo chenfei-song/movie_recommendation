{
 "cells": [
  {
   "cell_type": "code",
   "execution_count": 1,
   "metadata": {
    "ExecuteTime": {
     "end_time": "2020-12-13T09:29:32.337135Z",
     "start_time": "2020-12-13T09:29:32.332119Z"
    }
   },
   "outputs": [],
   "source": [
    "import pandas as pd\n",
    "import numpy as np\n",
    "import seaborn as sns\n",
    "import math\n",
    "import time\n",
    "from scipy import sparse\n",
    "from collections import defaultdict,OrderedDict\n",
    "from sklearn.model_selection import train_test_split\n",
    "from sklearn.neighbors import KDTree\n",
    "\n",
    "import sys\n",
    "sys.path.append('../model')\n",
    "from helper import * \n",
    "from ann_kdtree import *\n",
    "\n",
    "import pyspark\n",
    "from pyspark.sql import SparkSession\n",
    "from pyspark.sql.functions import *\n",
    "from pyspark.sql.window import Window\n",
    "from pyspark.sql.types import *\n",
    "from pyspark.ml.evaluation import RegressionEvaluator\n",
    "from pyspark.ml.recommendation import ALS\n",
    "from pyspark.ml.tuning import CrossValidator, ParamGridBuilder "
   ]
  },
  {
   "cell_type": "code",
   "execution_count": 2,
   "metadata": {
    "ExecuteTime": {
     "end_time": "2020-12-13T09:24:56.835086Z",
     "start_time": "2020-12-13T09:23:55.391938Z"
    },
    "scrolled": true
   },
   "outputs": [
    {
     "name": "stdout",
     "output_type": "stream",
     "text": [
      "number of users: 20000\n",
      "number of items: 1000\n",
      "number of ratings: 1179969\n"
     ]
    }
   ],
   "source": [
    "df = pd.read_csv('../ml-latest/ratings.csv') \n",
    "df_sample = sample_df(df)"
   ]
  },
  {
   "cell_type": "code",
   "execution_count": null,
   "metadata": {},
   "outputs": [],
   "source": [
    "train_df, test_df = train_test_split_by_time(df_sample)\n",
    "\n",
    "rating_train = train_df.pivot(index='movieId', columns='userId', values='rating')\n",
    "rating_test = test_df.pivot(index='movieId', columns='userId', values='rating')"
   ]
  },
  {
   "cell_type": "markdown",
   "metadata": {},
   "source": [
    "# ANN"
   ]
  },
  {
   "cell_type": "code",
   "execution_count": 43,
   "metadata": {},
   "outputs": [
    {
     "name": "stderr",
     "output_type": "stream",
     "text": [
      "  0%|          | 0/3 [00:00<?, ?it/s]\n",
      "  0%|          | 0/3 [00:00<?, ?it/s]\u001b[A\n",
      "\n",
      "  0%|          | 0/3 [00:00<?, ?it/s]\u001b[A\u001b[A"
     ]
    },
    {
     "name": "stdout",
     "output_type": "stream",
     "text": [
      "training begins ......\n",
      "Begin to retrieve latent features from cf ......\n",
      "training finishes.\n",
      "prediction begins ......\n",
      "prediciton finishes.\n"
     ]
    },
    {
     "name": "stderr",
     "output_type": "stream",
     "text": [
      "\n",
      "\n",
      " 33%|███▎      | 1/3 [00:59<01:58, 59.39s/it]\u001b[A\u001b[A"
     ]
    },
    {
     "name": "stdout",
     "output_type": "stream",
     "text": [
      "training begins ......\n",
      "Begin to retrieve latent features from cf ......\n",
      "training finishes.\n",
      "prediction begins ......\n",
      "prediciton finishes.\n"
     ]
    },
    {
     "name": "stderr",
     "output_type": "stream",
     "text": [
      "\n",
      "\n",
      " 67%|██████▋   | 2/3 [02:01<01:00, 60.07s/it]\u001b[A\u001b[A"
     ]
    },
    {
     "name": "stdout",
     "output_type": "stream",
     "text": [
      "training begins ......\n",
      "Begin to retrieve latent features from cf ......\n",
      "training finishes.\n",
      "prediction begins ......\n",
      "prediciton finishes.\n"
     ]
    },
    {
     "name": "stderr",
     "output_type": "stream",
     "text": [
      "\n",
      "\n",
      "100%|██████████| 3/3 [03:04<00:00, 61.58s/it]\u001b[A\u001b[A\n",
      "\n",
      " 33%|███▎      | 1/3 [03:04<06:09, 184.76s/it]\u001b[A\n",
      "\n",
      "  0%|          | 0/3 [00:00<?, ?it/s]\u001b[A\u001b[A"
     ]
    },
    {
     "name": "stdout",
     "output_type": "stream",
     "text": [
      "training begins ......\n",
      "Begin to retrieve latent features from cf ......\n",
      "training finishes.\n",
      "prediction begins ......\n",
      "prediciton finishes.\n"
     ]
    },
    {
     "name": "stderr",
     "output_type": "stream",
     "text": [
      "\n",
      "\n",
      " 33%|███▎      | 1/3 [01:07<02:14, 67.18s/it]\u001b[A\u001b[A"
     ]
    },
    {
     "name": "stdout",
     "output_type": "stream",
     "text": [
      "training begins ......\n",
      "Begin to retrieve latent features from cf ......\n",
      "training finishes.\n",
      "prediction begins ......\n",
      "prediciton finishes.\n"
     ]
    },
    {
     "name": "stderr",
     "output_type": "stream",
     "text": [
      "\n",
      "\n",
      " 67%|██████▋   | 2/3 [02:12<01:06, 66.52s/it]\u001b[A\u001b[A"
     ]
    },
    {
     "name": "stdout",
     "output_type": "stream",
     "text": [
      "training begins ......\n",
      "Begin to retrieve latent features from cf ......\n",
      "training finishes.\n",
      "prediction begins ......\n",
      "prediciton finishes.\n"
     ]
    },
    {
     "name": "stderr",
     "output_type": "stream",
     "text": [
      "\n",
      "\n",
      "100%|██████████| 3/3 [03:15<00:00, 65.31s/it]\u001b[A\u001b[A\n",
      "\n",
      " 67%|██████▋   | 2/3 [06:20<03:08, 188.12s/it]\u001b[A\n",
      "\n",
      "  0%|          | 0/3 [00:00<?, ?it/s]\u001b[A\u001b[A"
     ]
    },
    {
     "name": "stdout",
     "output_type": "stream",
     "text": [
      "training begins ......\n",
      "Begin to retrieve latent features from cf ......\n",
      "training finishes.\n",
      "prediction begins ......\n",
      "prediciton finishes.\n"
     ]
    },
    {
     "name": "stderr",
     "output_type": "stream",
     "text": [
      "\n",
      "\n",
      " 33%|███▎      | 1/3 [01:12<02:25, 72.69s/it]\u001b[A\u001b[A"
     ]
    },
    {
     "name": "stdout",
     "output_type": "stream",
     "text": [
      "training begins ......\n",
      "Begin to retrieve latent features from cf ......\n",
      "training finishes.\n",
      "prediction begins ......\n",
      "prediciton finishes.\n"
     ]
    },
    {
     "name": "stderr",
     "output_type": "stream",
     "text": [
      "\n",
      "\n",
      " 67%|██████▋   | 2/3 [02:23<01:12, 72.09s/it]\u001b[A\u001b[A"
     ]
    },
    {
     "name": "stdout",
     "output_type": "stream",
     "text": [
      "training begins ......\n",
      "Begin to retrieve latent features from cf ......\n",
      "training finishes.\n",
      "prediction begins ......\n",
      "prediciton finishes.\n"
     ]
    },
    {
     "name": "stderr",
     "output_type": "stream",
     "text": [
      "\n",
      "\n",
      "100%|██████████| 3/3 [03:29<00:00, 69.97s/it]\u001b[A\u001b[A\n",
      "\n",
      "100%|██████████| 3/3 [09:50<00:00, 196.88s/it]\u001b[A\n",
      " 33%|███▎      | 1/3 [09:50<19:41, 590.65s/it]\n",
      "  0%|          | 0/3 [00:00<?, ?it/s]\u001b[A\n",
      "\n",
      "  0%|          | 0/3 [00:00<?, ?it/s]\u001b[A\u001b[A"
     ]
    },
    {
     "name": "stdout",
     "output_type": "stream",
     "text": [
      "training begins ......\n",
      "Begin to retrieve latent features from cf ......\n",
      "training finishes.\n",
      "prediction begins ......\n",
      "prediciton finishes.\n"
     ]
    },
    {
     "name": "stderr",
     "output_type": "stream",
     "text": [
      "\n",
      "\n",
      " 33%|███▎      | 1/3 [01:04<02:08, 64.05s/it]\u001b[A\u001b[A"
     ]
    },
    {
     "name": "stdout",
     "output_type": "stream",
     "text": [
      "training begins ......\n",
      "Begin to retrieve latent features from cf ......\n",
      "training finishes.\n",
      "prediction begins ......\n",
      "prediciton finishes.\n"
     ]
    },
    {
     "name": "stderr",
     "output_type": "stream",
     "text": [
      "\n",
      "\n",
      " 67%|██████▋   | 2/3 [02:07<01:03, 63.80s/it]\u001b[A\u001b[A"
     ]
    },
    {
     "name": "stdout",
     "output_type": "stream",
     "text": [
      "training begins ......\n",
      "Begin to retrieve latent features from cf ......\n",
      "training finishes.\n",
      "prediction begins ......\n",
      "prediciton finishes.\n"
     ]
    },
    {
     "name": "stderr",
     "output_type": "stream",
     "text": [
      "\n",
      "\n",
      "100%|██████████| 3/3 [03:08<00:00, 63.00s/it]\u001b[A\u001b[A\n",
      "\n",
      " 33%|███▎      | 1/3 [03:08<06:17, 189.00s/it]\u001b[A\n",
      "\n",
      "  0%|          | 0/3 [00:00<?, ?it/s]\u001b[A\u001b[A"
     ]
    },
    {
     "name": "stdout",
     "output_type": "stream",
     "text": [
      "training begins ......\n",
      "Begin to retrieve latent features from cf ......\n",
      "training finishes.\n",
      "prediction begins ......\n",
      "prediciton finishes.\n"
     ]
    },
    {
     "name": "stderr",
     "output_type": "stream",
     "text": [
      "\n",
      "\n",
      " 33%|███▎      | 1/3 [01:07<02:14, 67.39s/it]\u001b[A\u001b[A"
     ]
    },
    {
     "name": "stdout",
     "output_type": "stream",
     "text": [
      "training begins ......\n",
      "Begin to retrieve latent features from cf ......\n",
      "training finishes.\n",
      "prediction begins ......\n",
      "prediciton finishes.\n"
     ]
    },
    {
     "name": "stderr",
     "output_type": "stream",
     "text": [
      "\n",
      "\n",
      " 67%|██████▋   | 2/3 [02:13<01:07, 67.10s/it]\u001b[A\u001b[A"
     ]
    },
    {
     "name": "stdout",
     "output_type": "stream",
     "text": [
      "training begins ......\n",
      "Begin to retrieve latent features from cf ......\n",
      "training finishes.\n",
      "prediction begins ......\n",
      "prediciton finishes.\n"
     ]
    },
    {
     "name": "stderr",
     "output_type": "stream",
     "text": [
      "\n",
      "\n",
      "100%|██████████| 3/3 [03:19<00:00, 66.52s/it]\u001b[A\u001b[A\n",
      "\n",
      " 67%|██████▋   | 2/3 [06:28<03:12, 192.17s/it]\u001b[A\n",
      "\n",
      "  0%|          | 0/3 [00:00<?, ?it/s]\u001b[A\u001b[A"
     ]
    },
    {
     "name": "stdout",
     "output_type": "stream",
     "text": [
      "training begins ......\n",
      "Begin to retrieve latent features from cf ......\n",
      "training finishes.\n",
      "prediction begins ......\n",
      "prediciton finishes.\n"
     ]
    },
    {
     "name": "stderr",
     "output_type": "stream",
     "text": [
      "\n",
      "\n",
      " 33%|███▎      | 1/3 [01:16<02:32, 76.28s/it]\u001b[A\u001b[A"
     ]
    },
    {
     "name": "stdout",
     "output_type": "stream",
     "text": [
      "training begins ......\n",
      "Begin to retrieve latent features from cf ......\n",
      "training finishes.\n",
      "prediction begins ......\n",
      "prediciton finishes.\n"
     ]
    },
    {
     "name": "stderr",
     "output_type": "stream",
     "text": [
      "\n",
      "\n",
      " 67%|██████▋   | 2/3 [02:30<01:15, 75.75s/it]\u001b[A\u001b[A"
     ]
    },
    {
     "name": "stdout",
     "output_type": "stream",
     "text": [
      "training begins ......\n",
      "Begin to retrieve latent features from cf ......\n",
      "training finishes.\n",
      "prediction begins ......\n",
      "prediciton finishes.\n"
     ]
    },
    {
     "name": "stderr",
     "output_type": "stream",
     "text": [
      "\n",
      "\n",
      "100%|██████████| 3/3 [03:45<00:00, 75.21s/it]\u001b[A\u001b[A\n",
      "\n",
      "100%|██████████| 3/3 [10:14<00:00, 204.74s/it]\u001b[A\n",
      " 67%|██████▋   | 2/3 [20:04<09:57, 597.72s/it]\n",
      "  0%|          | 0/3 [00:00<?, ?it/s]\u001b[A\n",
      "\n",
      "  0%|          | 0/3 [00:00<?, ?it/s]\u001b[A\u001b[A"
     ]
    },
    {
     "name": "stdout",
     "output_type": "stream",
     "text": [
      "training begins ......\n",
      "Begin to retrieve latent features from cf ......\n",
      "training finishes.\n",
      "prediction begins ......\n",
      "prediciton finishes.\n"
     ]
    },
    {
     "name": "stderr",
     "output_type": "stream",
     "text": [
      "\n",
      "\n",
      " 33%|███▎      | 1/3 [01:06<02:13, 66.76s/it]\u001b[A\u001b[A"
     ]
    },
    {
     "name": "stdout",
     "output_type": "stream",
     "text": [
      "training begins ......\n",
      "Begin to retrieve latent features from cf ......\n",
      "training finishes.\n",
      "prediction begins ......\n",
      "prediciton finishes.\n"
     ]
    },
    {
     "name": "stderr",
     "output_type": "stream",
     "text": [
      "\n",
      "\n",
      " 67%|██████▋   | 2/3 [02:12<01:06, 66.39s/it]\u001b[A\u001b[A"
     ]
    },
    {
     "name": "stdout",
     "output_type": "stream",
     "text": [
      "training begins ......\n",
      "Begin to retrieve latent features from cf ......\n",
      "training finishes.\n",
      "prediction begins ......\n",
      "prediciton finishes.\n"
     ]
    },
    {
     "name": "stderr",
     "output_type": "stream",
     "text": [
      "\n",
      "\n",
      "100%|██████████| 3/3 [03:16<00:00, 65.58s/it]\u001b[A\u001b[A\n",
      "\n",
      " 33%|███▎      | 1/3 [03:16<06:33, 196.75s/it]\u001b[A\n",
      "\n",
      "  0%|          | 0/3 [00:00<?, ?it/s]\u001b[A\u001b[A"
     ]
    },
    {
     "name": "stdout",
     "output_type": "stream",
     "text": [
      "training begins ......\n",
      "Begin to retrieve latent features from cf ......\n",
      "training finishes.\n",
      "prediction begins ......\n",
      "prediciton finishes.\n"
     ]
    },
    {
     "name": "stderr",
     "output_type": "stream",
     "text": [
      "\n",
      "\n",
      " 33%|███▎      | 1/3 [01:12<02:24, 72.46s/it]\u001b[A\u001b[A"
     ]
    },
    {
     "name": "stdout",
     "output_type": "stream",
     "text": [
      "training begins ......\n",
      "Begin to retrieve latent features from cf ......\n",
      "training finishes.\n",
      "prediction begins ......\n",
      "prediciton finishes.\n"
     ]
    },
    {
     "name": "stderr",
     "output_type": "stream",
     "text": [
      "\n",
      "\n",
      " 67%|██████▋   | 2/3 [02:25<01:12, 72.53s/it]\u001b[A\u001b[A"
     ]
    },
    {
     "name": "stdout",
     "output_type": "stream",
     "text": [
      "training begins ......\n",
      "Begin to retrieve latent features from cf ......\n",
      "training finishes.\n",
      "prediction begins ......\n",
      "prediciton finishes.\n"
     ]
    },
    {
     "name": "stderr",
     "output_type": "stream",
     "text": [
      "\n",
      "\n",
      "100%|██████████| 3/3 [03:37<00:00, 72.39s/it]\u001b[A\u001b[A\n",
      "\n",
      " 67%|██████▋   | 2/3 [06:53<03:22, 202.88s/it]\u001b[A\n",
      "\n",
      "  0%|          | 0/3 [00:00<?, ?it/s]\u001b[A\u001b[A"
     ]
    },
    {
     "name": "stdout",
     "output_type": "stream",
     "text": [
      "training begins ......\n",
      "Begin to retrieve latent features from cf ......\n",
      "training finishes.\n",
      "prediction begins ......\n",
      "prediciton finishes.\n"
     ]
    },
    {
     "name": "stderr",
     "output_type": "stream",
     "text": [
      "\n",
      "\n",
      " 33%|███▎      | 1/3 [01:24<02:48, 84.03s/it]\u001b[A\u001b[A"
     ]
    },
    {
     "name": "stdout",
     "output_type": "stream",
     "text": [
      "training begins ......\n",
      "Begin to retrieve latent features from cf ......\n",
      "training finishes.\n",
      "prediction begins ......\n",
      "prediciton finishes.\n"
     ]
    },
    {
     "name": "stderr",
     "output_type": "stream",
     "text": [
      "\n",
      "\n",
      " 67%|██████▋   | 2/3 [02:51<01:24, 84.99s/it]\u001b[A\u001b[A"
     ]
    },
    {
     "name": "stdout",
     "output_type": "stream",
     "text": [
      "training begins ......\n",
      "Begin to retrieve latent features from cf ......\n",
      "training finishes.\n",
      "prediction begins ......\n",
      "prediciton finishes.\n"
     ]
    },
    {
     "name": "stderr",
     "output_type": "stream",
     "text": [
      "\n",
      "\n",
      "100%|██████████| 3/3 [04:15<00:00, 85.23s/it]\u001b[A\u001b[A\n",
      "\n",
      "100%|██████████| 3/3 [11:09<00:00, 223.22s/it]\u001b[A\n",
      "100%|██████████| 3/3 [31:14<00:00, 624.85s/it]\n"
     ]
    },
    {
     "data": {
      "text/plain": [
       "[(15, 5, 15, 0.028656964285714286),\n",
       " (15, 5, 30, 0.028656964285714286),\n",
       " (15, 5, 50, 0.028656964285714286),\n",
       " (10, 5, 15, 0.028763353174603174),\n",
       " (10, 5, 30, 0.028763353174603174),\n",
       " (10, 5, 50, 0.028763353174603174),\n",
       " (5, 5, 15, 0.03153494047619047),\n",
       " (5, 5, 30, 0.03153494047619047),\n",
       " (5, 5, 50, 0.03153494047619047),\n",
       " (15, 10, 15, 0.0399479365079365),\n",
       " (15, 10, 30, 0.0399479365079365),\n",
       " (15, 10, 50, 0.0399479365079365),\n",
       " (15, 20, 15, 0.04146404761904762),\n",
       " (15, 20, 30, 0.04146404761904762),\n",
       " (15, 20, 50, 0.04146404761904762),\n",
       " (10, 10, 15, 0.04186632936507936),\n",
       " (10, 10, 30, 0.04186632936507936),\n",
       " (10, 10, 50, 0.04186632936507936),\n",
       " (10, 20, 15, 0.046545357142857145),\n",
       " (10, 20, 30, 0.046545357142857145),\n",
       " (10, 20, 50, 0.046545357142857145),\n",
       " (5, 10, 15, 0.047943392857142865),\n",
       " (5, 10, 30, 0.047943392857142865),\n",
       " (5, 10, 50, 0.047943392857142865),\n",
       " (5, 20, 15, 0.055998769841269835),\n",
       " (5, 20, 30, 0.055998769841269835),\n",
       " (5, 20, 50, 0.055998769841269835)]"
      ]
     },
     "execution_count": 43,
     "metadata": {},
     "output_type": "execute_result"
    }
   ],
   "source": [
    "#cross validate\n",
    "from tqdm import tqdm\n",
    "k_items = 10\n",
    "\n",
    "max_iter_list = [5, 10, 15]\n",
    "rank_list = [5, 10, 20]\n",
    "leaf_size_list = [15, 30, 50]\n",
    "\n",
    "recall_list = []\n",
    "for max_iter in tqdm(max_iter_list):\n",
    "    for rank in tqdm(rank_list):\n",
    "        for leaf_size in tqdm(leaf_size_list):\n",
    "            model_ann = ann_kdtree(max_iter=max_iter, regparam=0.1, rank=rank, leaf_size=leaf_size, k_items=k_items)\n",
    "            model_ann.fit(train_df)\n",
    "            rating_pred =  model_ann.pred(test_df)\n",
    "            user_recalls, avg_recall = recall_over_user(rating_test, rating_pred, k_items=k_items, plot=False)\n",
    "            recall_list.append((max_iter, rank, leaf_size, avg_recall))\n",
    "sorted(recall_list, key = lambda tup: tup[3])"
   ]
  },
  {
   "cell_type": "code",
   "execution_count": 48,
   "metadata": {},
   "outputs": [
    {
     "name": "stdout",
     "output_type": "stream",
     "text": [
      "training begins ......\n",
      "Begin to retrieve latent features from cf ......\n",
      "training finishes.\n",
      "prediction begins ......\n",
      "prediciton finishes.\n",
      "train_time:  47.35870885848999\n",
      "test_time:  29.512703895568848\n"
     ]
    }
   ],
   "source": [
    "#model\n",
    "\n",
    "k_items = 10\n",
    "\n",
    "max_iter = 5\n",
    "rank = 20\n",
    "leaf_size = 50\n",
    "\n",
    "start = time.time()  \n",
    "model_ann = ann_kdtree(max_iter=max_iter, regparam=0.1, rank=rank, leaf_size=leaf_size, k_items=k_items)\n",
    "model_ann.fit(train_df)\n",
    "end = time.time()  \n",
    "train_time = end - start\n",
    "\n",
    "start = time.time()  \n",
    "rating_pred =  model_ann.pred(test_df)\n",
    "end = time.time() \n",
    "test_time = end - start \n",
    "\n",
    "print(\"train_time: \", train_time)\n",
    "print(\"test_time: \", test_time)"
   ]
  },
  {
   "cell_type": "code",
   "execution_count": 49,
   "metadata": {},
   "outputs": [
    {
     "data": {
      "image/png": "[encoded data removed]",
      "text/plain": [
       "<Figure size 432x288 with 1 Axes>"
      ]
     },
     "metadata": {
      "needs_background": "light"
     },
     "output_type": "display_data"
    },
    {
     "name": "stdout",
     "output_type": "stream",
     "text": [
      "Mean Recall: 0.056\n",
      "Recall for each user group:  {'10-50': 0.0338, '50-100': 0.0351, '100-500': 0.0339, '500-1000': 0.0667}\n"
     ]
    },
    {
     "data": {
      "image/png": "[encoded data removed]",
      "text/plain": [
       "<Figure size 432x288 with 1 Axes>"
      ]
     },
     "metadata": {
      "needs_background": "light"
     },
     "output_type": "display_data"
    },
    {
     "name": "stdout",
     "output_type": "stream",
     "text": [
      "User coverage:  the fraction of users for which at least 1 items can be recommended well is 0.317\n",
      "Item coverage: the fraction of items that can be recommended to at least 1 users well is 0.445\n",
      "Catalog coverage: the fraction of items that are in the top-10 for at least 1 user is 0.445\n",
      "\n",
      "NDCG: 0.325\n"
     ]
    }
   ],
   "source": [
    "#evaluation\n",
    "k_items = k_items\n",
    "rating_pred = rating_pred\n",
    "\n",
    "#recall\n",
    "user_recalls, avg_recall = recall_over_user(rating_test, rating_pred, k_items=k_items)\n",
    "print(f\"Mean Recall: {avg_recall:.3f}\")\n",
    "user_grouped = group(train_df, 'user')\n",
    "recall_dict = recall_over_user_group(rating_test, rating_pred, user_grouped=user_grouped, k_items=k_items)\n",
    "\n",
    "#coverage\n",
    "user_cov = cal_coverage(rating_test, rating_pred, k_items=k_items, threshold=1, coverage_type='user')\n",
    "movie_cov = cal_coverage(rating_test, rating_pred, k_items=k_items, threshold=1, coverage_type = 'item')\n",
    "catalog_cov = cal_coverage(rating_test, rating_pred, k_items=k_items, threshold=1, coverage_type = 'catalog')\n",
    "\n",
    "#ndcg\n",
    "ndcg_score = ndcg(rating_test, rating_pred)\n",
    "print()\n",
    "print(f\"NDCG: {ndcg_score:.3f}\")"
   ]
  },
  {
   "cell_type": "markdown",
   "metadata": {},
   "source": [
    "We acheive the max average recall of 0.056 with cross validation, by setting max_iter=5, rank=20, leaf_size=50."
   ]
  }
 ],
 "metadata": {
  "kernelspec": {
   "display_name": "Python 3",
   "language": "python",
   "name": "python3"
  },
  "language_info": {
   "codemirror_mode": {
    "name": "ipython",
    "version": 3
   },
   "file_extension": ".py",
   "mimetype": "text/x-python",
   "name": "python",
   "nbconvert_exporter": "python",
   "pygments_lexer": "ipython3",
   "version": "3.7.6"
  },
  "toc": {
   "base_numbering": 1,
   "nav_menu": {},
   "number_sections": true,
   "sideBar": true,
   "skip_h1_title": false,
   "title_cell": "Table of Contents",
   "title_sidebar": "Contents",
   "toc_cell": false,
   "toc_position": {},
   "toc_section_display": true,
   "toc_window_display": false
  },
  "varInspector": {
   "cols": {
    "lenName": 16,
    "lenType": 16,
    "lenVar": 40
   },
   "kernels_config": {
    "python": {
     "delete_cmd_postfix": "",
     "delete_cmd_prefix": "del ",
     "library": "var_list.py",
     "varRefreshCmd": "print(var_dic_list())"
    },
    "r": {
     "delete_cmd_postfix": ") ",
     "delete_cmd_prefix": "rm(",
     "library": "var_list.r",
     "varRefreshCmd": "cat(var_dic_list()) "
    }
   },
   "types_to_exclude": [
    "module",
    "function",
    "builtin_function_or_method",
    "instance",
    "_Feature"
   ],
   "window_display": false
  }
 },
 "nbformat": 4,
 "nbformat_minor": 4
}
