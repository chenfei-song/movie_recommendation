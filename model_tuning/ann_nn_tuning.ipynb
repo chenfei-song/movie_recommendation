{
 "cells": [
  {
   "cell_type": "code",
   "execution_count": 1,
   "metadata": {
    "ExecuteTime": {
     "end_time": "2020-12-13T09:29:32.337135Z",
     "start_time": "2020-12-13T09:29:32.332119Z"
    }
   },
   "outputs": [
    {
     "name": "stderr",
     "output_type": "stream",
     "text": [
      "Using TensorFlow backend.\n"
     ]
    }
   ],
   "source": [
    "import pandas as pd\n",
    "import numpy as np\n",
    "import math\n",
    "import time\n",
    "from scipy import sparse\n",
    "np.warnings.filterwarnings('ignore')\n",
    "\n",
    "from sklearn.model_selection import train_test_split\n",
    "from sklearn.model_selection import GridSearchCV\n",
    "from sklearn.metrics import make_scorer\n",
    "from sklearn.neighbors import KDTree\n",
    "\n",
    "import matplotlib.pyplot as plt\n",
    "%matplotlib inline\n",
    "import seaborn as sns\n",
    "\n",
    "import pyspark\n",
    "from pyspark.sql import SparkSession\n",
    "from pyspark.sql.functions import *\n",
    "from pyspark.sql.window import Window\n",
    "from pyspark.sql.types import *\n",
    "from pyspark.ml.evaluation import RegressionEvaluator\n",
    "from pyspark.ml.recommendation import ALS\n",
    "from pyspark.ml.tuning import CrossValidator, ParamGridBuilder \n",
    "from scipy import sparse\n",
    "from keras.initializers import Zeros\n",
    "from keras.models import Sequential\n",
    "from keras.layers import Dense, Activation\n",
    "from keras import initializers\n",
    "\n",
    "import sys\n",
    "sys.path.append('../model')\n",
    "from helper import *\n",
    "from ann_nn import *"
   ]
  },
  {
   "cell_type": "code",
   "execution_count": 2,
   "metadata": {
    "ExecuteTime": {
     "end_time": "2020-12-13T09:24:56.835086Z",
     "start_time": "2020-12-13T09:23:55.391938Z"
    },
    "scrolled": true
   },
   "outputs": [
    {
     "name": "stdout",
     "output_type": "stream",
     "text": [
      "number of users: 20000\n",
      "number of items: 1000\n",
      "number of ratings: 1179969\n"
     ]
    }
   ],
   "source": [
    "df = pd.read_csv('../ml-latest/ratings.csv') \n",
    "df_tag = pd.read_csv('../ml-latest/genome-scores.csv')\n",
    "df_sample = sample_df(df)\n",
    "train_df, test_df = train_test_split_by_time(df_sample)\n",
    "\n",
    "rating_train = train_df.pivot(index='movieId', columns='userId', values='rating')\n",
    "rating_test = test_df.pivot(index='movieId', columns='userId', values='rating')"
   ]
  },
  {
   "cell_type": "code",
   "execution_count": 3,
   "metadata": {},
   "outputs": [
    {
     "name": "stdout",
     "output_type": "stream",
     "text": [
      "Training begins.......\n",
      "Begin to retrieve latent features from MF ......\n",
      "Begin to retrieve top 20 pairs with ann......\n",
      "top 20 pairs are ready\n",
      "creating training set for neural network......\n",
      "shape of features array in train set: (952005, 20)\n",
      "shape of target array in train set: (952005,)\n",
      "Train on 856804 samples, validate on 95201 samples\n",
      "Epoch 1/40\n",
      "856804/856804 [==============================] - 7s 8us/step - loss: 0.8717 - mae: 0.6998 - val_loss: 0.6525 - val_mae: 0.6198\n",
      "Epoch 2/40\n",
      "856804/856804 [==============================] - 6s 7us/step - loss: 0.6531 - mae: 0.6202 - val_loss: 0.6298 - val_mae: 0.6069\n",
      "Epoch 3/40\n",
      "856804/856804 [==============================] - 6s 7us/step - loss: 0.6338 - mae: 0.6105 - val_loss: 0.6195 - val_mae: 0.6058\n",
      "Epoch 4/40\n",
      "856804/856804 [==============================] - 6s 7us/step - loss: 0.6256 - mae: 0.6065 - val_loss: 0.6117 - val_mae: 0.5991\n",
      "Epoch 5/40\n",
      "856804/856804 [==============================] - 6s 7us/step - loss: 0.6191 - mae: 0.6033 - val_loss: 0.6013 - val_mae: 0.5941\n",
      "Epoch 6/40\n",
      "856804/856804 [==============================] - 7s 8us/step - loss: 0.6107 - mae: 0.5994 - val_loss: 0.6020 - val_mae: 0.5976\n",
      "Epoch 7/40\n",
      "856804/856804 [==============================] - 7s 8us/step - loss: 0.6080 - mae: 0.5981 - val_loss: 0.5987 - val_mae: 0.5908\n",
      "Epoch 8/40\n",
      "856804/856804 [==============================] - 6s 7us/step - loss: 0.6064 - mae: 0.5973 - val_loss: 0.5945 - val_mae: 0.5920\n",
      "Epoch 9/40\n",
      "856804/856804 [==============================] - 7s 8us/step - loss: 0.6049 - mae: 0.5965 - val_loss: 0.5978 - val_mae: 0.5888\n",
      "Epoch 10/40\n",
      "856804/856804 [==============================] - 7s 8us/step - loss: 0.6040 - mae: 0.5959 - val_loss: 0.5948 - val_mae: 0.5935\n",
      "Epoch 11/40\n",
      "856804/856804 [==============================] - 7s 9us/step - loss: 0.6028 - mae: 0.5952 - val_loss: 0.5908 - val_mae: 0.5875\n",
      "Epoch 12/40\n",
      "856804/856804 [==============================] - 7s 8us/step - loss: 0.6018 - mae: 0.5947 - val_loss: 0.5918 - val_mae: 0.5862\n",
      "Epoch 13/40\n",
      "856804/856804 [==============================] - 7s 8us/step - loss: 0.6006 - mae: 0.5941 - val_loss: 0.5894 - val_mae: 0.5875\n",
      "Epoch 14/40\n",
      "856804/856804 [==============================] - 6s 7us/step - loss: 0.5990 - mae: 0.5932 - val_loss: 0.5868 - val_mae: 0.5855\n",
      "Epoch 15/40\n",
      "856804/856804 [==============================] - 7s 8us/step - loss: 0.5974 - mae: 0.5925 - val_loss: 0.5859 - val_mae: 0.5859\n",
      "Epoch 16/40\n",
      "856804/856804 [==============================] - 6s 7us/step - loss: 0.5959 - mae: 0.5916 - val_loss: 0.5872 - val_mae: 0.5834\n",
      "Epoch 17/40\n",
      "856804/856804 [==============================] - 7s 8us/step - loss: 0.5937 - mae: 0.5906 - val_loss: 0.5823 - val_mae: 0.5849\n",
      "Epoch 18/40\n",
      "856804/856804 [==============================] - 7s 8us/step - loss: 0.5919 - mae: 0.5897 - val_loss: 0.5900 - val_mae: 0.5834\n",
      "Epoch 19/40\n",
      "856804/856804 [==============================] - 7s 8us/step - loss: 0.5908 - mae: 0.5891 - val_loss: 0.5831 - val_mae: 0.5817\n",
      "Epoch 20/40\n",
      "856804/856804 [==============================] - 6s 7us/step - loss: 0.5896 - mae: 0.5886 - val_loss: 0.5807 - val_mae: 0.5811\n",
      "Epoch 21/40\n",
      "856804/856804 [==============================] - 6s 7us/step - loss: 0.5879 - mae: 0.5876 - val_loss: 0.5797 - val_mae: 0.5801\n",
      "Epoch 22/40\n",
      "856804/856804 [==============================] - 6s 7us/step - loss: 0.5867 - mae: 0.5870 - val_loss: 0.5759 - val_mae: 0.5789\n",
      "Epoch 23/40\n",
      "856804/856804 [==============================] - 6s 7us/step - loss: 0.5852 - mae: 0.5863 - val_loss: 0.5742 - val_mae: 0.5797\n",
      "Epoch 24/40\n",
      "856804/856804 [==============================] - 6s 7us/step - loss: 0.5844 - mae: 0.5859 - val_loss: 0.5771 - val_mae: 0.5787\n",
      "Epoch 25/40\n",
      "856804/856804 [==============================] - 6s 7us/step - loss: 0.5838 - mae: 0.5855 - val_loss: 0.5736 - val_mae: 0.5778\n",
      "Epoch 26/40\n",
      "856804/856804 [==============================] - 7s 8us/step - loss: 0.5833 - mae: 0.5854 - val_loss: 0.5729 - val_mae: 0.5803\n",
      "Epoch 27/40\n",
      "856804/856804 [==============================] - 6s 7us/step - loss: 0.5826 - mae: 0.5850 - val_loss: 0.5740 - val_mae: 0.5816\n",
      "Epoch 28/40\n",
      "856804/856804 [==============================] - 6s 7us/step - loss: 0.5820 - mae: 0.5847 - val_loss: 0.5726 - val_mae: 0.5807\n",
      "Epoch 29/40\n",
      "856804/856804 [==============================] - 6s 8us/step - loss: 0.5816 - mae: 0.5845 - val_loss: 0.5724 - val_mae: 0.5810\n",
      "Epoch 30/40\n",
      "856804/856804 [==============================] - 7s 8us/step - loss: 0.5812 - mae: 0.5843 - val_loss: 0.5741 - val_mae: 0.5836\n",
      "Epoch 31/40\n",
      "856804/856804 [==============================] - 7s 8us/step - loss: 0.5805 - mae: 0.5839 - val_loss: 0.5709 - val_mae: 0.5800\n",
      "Epoch 32/40\n",
      "856804/856804 [==============================] - 7s 8us/step - loss: 0.5799 - mae: 0.5837 - val_loss: 0.5768 - val_mae: 0.5775\n",
      "Epoch 33/40\n",
      "856804/856804 [==============================] - 7s 8us/step - loss: 0.5797 - mae: 0.5836 - val_loss: 0.5699 - val_mae: 0.5800\n",
      "Epoch 34/40\n",
      "856804/856804 [==============================] - 7s 8us/step - loss: 0.5789 - mae: 0.5832 - val_loss: 0.5681 - val_mae: 0.5766\n",
      "Epoch 35/40\n",
      "856804/856804 [==============================] - 6s 7us/step - loss: 0.5786 - mae: 0.5830 - val_loss: 0.5688 - val_mae: 0.5788\n",
      "Epoch 36/40\n",
      "856804/856804 [==============================] - 7s 8us/step - loss: 0.5780 - mae: 0.5828 - val_loss: 0.5679 - val_mae: 0.5772\n",
      "Epoch 37/40\n",
      "856804/856804 [==============================] - 7s 9us/step - loss: 0.5776 - mae: 0.5825 - val_loss: 0.5716 - val_mae: 0.5753\n",
      "Epoch 38/40\n",
      "856804/856804 [==============================] - 7s 8us/step - loss: 0.5774 - mae: 0.5823 - val_loss: 0.5662 - val_mae: 0.5756\n",
      "Epoch 39/40\n",
      "856804/856804 [==============================] - 6s 8us/step - loss: 0.5765 - mae: 0.5819 - val_loss: 0.5668 - val_mae: 0.5744\n",
      "Epoch 40/40\n",
      "856804/856804 [==============================] - 8s 9us/step - loss: 0.5764 - mae: 0.5818 - val_loss: 0.5707 - val_mae: 0.5819\n",
      "Prediction begins.......\n",
      "creating testing set for neural network.....\n",
      "(399960, 4)\n",
      "shape of features array in test set: (399960, 20)\n",
      "shape of target array in test set: (399960,)\n",
      "train_time:  393.2112228870392\n",
      "test_time:  41.366514921188354\n"
     ]
    }
   ],
   "source": [
    "#model\n",
    "k_items = 10\n",
    "start = time.time()  \n",
    "model_ann_nn = ann_nn(max_iter=2, regparam=0.1, prerank_k=20, leaf_size=50, rank=10, \n",
    "                      batch_size=256, epochs=40, k_items=k_items, verbose = 1, use_element_embed=False)\n",
    "model_ann_nn.fit(train_df, df_tag)\n",
    "end = time.time()  \n",
    "train_time = end - start\n",
    "\n",
    "start = time.time()  \n",
    "df_pred =  model_ann_nn.pred(test_df)\n",
    "end = time.time() \n",
    "test_time = end - start \n",
    "\n",
    "print(\"train_time: \", train_time)\n",
    "print(\"test_time: \", test_time)"
   ]
  },
  {
   "cell_type": "code",
   "execution_count": 4,
   "metadata": {},
   "outputs": [
    {
     "data": {
      "image/png": "[encoded data removed]",
      "text/plain": [
       "<Figure size 720x720 with 1 Axes>"
      ]
     },
     "metadata": {
      "needs_background": "light"
     },
     "output_type": "display_data"
    }
   ],
   "source": [
    "history = model_ann_nn.history\n",
    "plot_history(history)"
   ]
  },
  {
   "cell_type": "code",
   "execution_count": 9,
   "metadata": {},
   "outputs": [
    {
     "name": "stderr",
     "output_type": "stream",
     "text": [
      "  0%|          | 0/4 [00:00<?, ?it/s]\n",
      "  0%|          | 0/3 [00:00<?, ?it/s]\u001b[A\n",
      "\n",
      "  0%|          | 0/4 [00:00<?, ?it/s]\u001b[A\u001b[A\n",
      "\n",
      "\n",
      "  0%|          | 0/3 [00:00<?, ?it/s]\u001b[A\u001b[A\u001b[A"
     ]
    },
    {
     "name": "stdout",
     "output_type": "stream",
     "text": [
      "Training begins.......\n",
      "Begin to retrieve latent features from MF ......\n",
      "Begin to retrieve top 20 pairs with ann......\n",
      "top 20 pairs are ready\n",
      "creating training set for neural network......\n",
      "shape of features array in train set: (952005, 10)\n",
      "shape of target array in train set: (952005,)\n",
      "Prediction begins.......\n",
      "creating testing set for neural network.....\n",
      "(399963, 4)\n",
      "shape of features array in test set: (399963, 10)\n",
      "shape of target array in test set: (399963,)\n"
     ]
    },
    {
     "name": "stderr",
     "output_type": "stream",
     "text": [
      "\n",
      "\n",
      "\n",
      " 33%|███▎      | 1/3 [06:28<12:56, 388.48s/it]\u001b[A\u001b[A\u001b[A"
     ]
    },
    {
     "name": "stdout",
     "output_type": "stream",
     "text": [
      "Training begins.......\n",
      "Begin to retrieve latent features from MF ......\n",
      "Begin to retrieve top 20 pairs with ann......\n",
      "top 20 pairs are ready\n",
      "creating training set for neural network......\n",
      "shape of features array in train set: (952005, 10)\n",
      "shape of target array in train set: (952005,)\n",
      "Prediction begins.......\n",
      "creating testing set for neural network.....\n",
      "(399963, 4)\n",
      "shape of features array in test set: (399963, 10)\n",
      "shape of target array in test set: (399963,)\n"
     ]
    },
    {
     "name": "stderr",
     "output_type": "stream",
     "text": [
      "\n",
      "\n",
      "\n",
      " 67%|██████▋   | 2/3 [12:43<06:24, 384.32s/it]\u001b[A\u001b[A\u001b[A"
     ]
    },
    {
     "name": "stdout",
     "output_type": "stream",
     "text": [
      "Training begins.......\n",
      "Begin to retrieve latent features from MF ......\n",
      "Begin to retrieve top 20 pairs with ann......\n",
      "top 20 pairs are ready\n",
      "creating training set for neural network......\n",
      "shape of features array in train set: (952005, 10)\n",
      "shape of target array in train set: (952005,)\n",
      "Prediction begins.......\n",
      "creating testing set for neural network.....\n",
      "(399963, 4)\n",
      "shape of features array in test set: (399963, 10)\n",
      "shape of target array in test set: (399963,)\n"
     ]
    },
    {
     "name": "stderr",
     "output_type": "stream",
     "text": [
      "\n",
      "\n",
      "\n",
      "100%|██████████| 3/3 [18:21<00:00, 367.33s/it]\u001b[A\u001b[A\u001b[A\n",
      "\n",
      "\n",
      " 25%|██▌       | 1/4 [18:21<55:05, 1102.00s/it]\u001b[A\u001b[A\n",
      "\n",
      "\n",
      "  0%|          | 0/3 [00:00<?, ?it/s]\u001b[A\u001b[A\u001b[A"
     ]
    },
    {
     "name": "stdout",
     "output_type": "stream",
     "text": [
      "Training begins.......\n",
      "Begin to retrieve latent features from MF ......\n",
      "Begin to retrieve top 20 pairs with ann......\n",
      "top 20 pairs are ready\n",
      "creating training set for neural network......\n",
      "shape of features array in train set: (952005, 20)\n",
      "shape of target array in train set: (952005,)\n",
      "Prediction begins.......\n",
      "creating testing set for neural network.....\n",
      "(399960, 4)\n",
      "shape of features array in test set: (399960, 20)\n",
      "shape of target array in test set: (399960,)\n"
     ]
    },
    {
     "name": "stderr",
     "output_type": "stream",
     "text": [
      "\n",
      "\n",
      "\n",
      " 33%|███▎      | 1/3 [04:57<09:54, 297.26s/it]\u001b[A\u001b[A\u001b[A"
     ]
    },
    {
     "name": "stdout",
     "output_type": "stream",
     "text": [
      "Training begins.......\n",
      "Begin to retrieve latent features from MF ......\n",
      "Begin to retrieve top 20 pairs with ann......\n",
      "top 20 pairs are ready\n",
      "creating training set for neural network......\n",
      "shape of features array in train set: (952005, 20)\n",
      "shape of target array in train set: (952005,)\n",
      "Prediction begins.......\n",
      "creating testing set for neural network.....\n",
      "(399960, 4)\n",
      "shape of features array in test set: (399960, 20)\n",
      "shape of target array in test set: (399960,)\n"
     ]
    },
    {
     "name": "stderr",
     "output_type": "stream",
     "text": [
      "\n",
      "\n",
      "\n",
      " 67%|██████▋   | 2/3 [09:53<04:56, 296.85s/it]\u001b[A\u001b[A\u001b[A"
     ]
    },
    {
     "name": "stdout",
     "output_type": "stream",
     "text": [
      "Training begins.......\n",
      "Begin to retrieve latent features from MF ......\n",
      "Begin to retrieve top 20 pairs with ann......\n",
      "top 20 pairs are ready\n",
      "creating training set for neural network......\n",
      "shape of features array in train set: (952005, 20)\n",
      "shape of target array in train set: (952005,)\n",
      "Prediction begins.......\n",
      "creating testing set for neural network.....\n",
      "(399960, 4)\n",
      "shape of features array in test set: (399960, 20)\n",
      "shape of target array in test set: (399960,)\n"
     ]
    },
    {
     "name": "stderr",
     "output_type": "stream",
     "text": [
      "\n",
      "\n",
      "\n",
      "100%|██████████| 3/3 [14:52<00:00, 297.46s/it]\u001b[A\u001b[A\u001b[A\n",
      "\n",
      "\n",
      " 50%|█████     | 2/4 [33:14<34:38, 1039.11s/it]\u001b[A\u001b[A\n",
      "\n",
      "\n",
      "  0%|          | 0/3 [00:00<?, ?it/s]\u001b[A\u001b[A\u001b[A"
     ]
    },
    {
     "name": "stdout",
     "output_type": "stream",
     "text": [
      "Training begins.......\n",
      "Begin to retrieve latent features from MF ......\n",
      "Begin to retrieve top 20 pairs with ann......\n",
      "top 20 pairs are ready\n",
      "creating training set for neural network......\n",
      "shape of features array in train set: (952005, 30)\n",
      "shape of target array in train set: (952005,)\n",
      "Prediction begins.......\n",
      "creating testing set for neural network.....\n",
      "(399939, 4)\n",
      "shape of features array in test set: (399939, 30)\n",
      "shape of target array in test set: (399939,)\n"
     ]
    },
    {
     "name": "stderr",
     "output_type": "stream",
     "text": [
      "\n",
      "\n",
      "\n",
      " 33%|███▎      | 1/3 [05:14<10:28, 314.15s/it]\u001b[A\u001b[A\u001b[A"
     ]
    },
    {
     "name": "stdout",
     "output_type": "stream",
     "text": [
      "Training begins.......\n",
      "Begin to retrieve latent features from MF ......\n",
      "Begin to retrieve top 20 pairs with ann......\n",
      "top 20 pairs are ready\n",
      "creating training set for neural network......\n",
      "shape of features array in train set: (952005, 30)\n",
      "shape of target array in train set: (952005,)\n",
      "Prediction begins.......\n",
      "creating testing set for neural network.....\n",
      "(399939, 4)\n",
      "shape of features array in test set: (399939, 30)\n",
      "shape of target array in test set: (399939,)\n"
     ]
    },
    {
     "name": "stderr",
     "output_type": "stream",
     "text": [
      "\n",
      "\n",
      "\n",
      " 67%|██████▋   | 2/3 [10:37<05:17, 317.00s/it]\u001b[A\u001b[A\u001b[A"
     ]
    },
    {
     "name": "stdout",
     "output_type": "stream",
     "text": [
      "Training begins.......\n",
      "Begin to retrieve latent features from MF ......\n",
      "Begin to retrieve top 20 pairs with ann......\n",
      "top 20 pairs are ready\n",
      "creating training set for neural network......\n",
      "shape of features array in train set: (952005, 30)\n",
      "shape of target array in train set: (952005,)\n",
      "Prediction begins.......\n",
      "creating testing set for neural network.....\n",
      "(399939, 4)\n",
      "shape of features array in test set: (399939, 30)\n",
      "shape of target array in test set: (399939,)\n"
     ]
    },
    {
     "name": "stderr",
     "output_type": "stream",
     "text": [
      "\n",
      "\n",
      "\n",
      "100%|██████████| 3/3 [15:49<00:00, 316.48s/it]\u001b[A\u001b[A\u001b[A\n",
      "\n",
      "\n",
      " 75%|███████▌  | 3/4 [49:03<16:52, 1012.21s/it]\u001b[A\u001b[A\n",
      "\n",
      "\n",
      "  0%|          | 0/3 [00:00<?, ?it/s]\u001b[A\u001b[A\u001b[A"
     ]
    },
    {
     "name": "stdout",
     "output_type": "stream",
     "text": [
      "Training begins.......\n",
      "Begin to retrieve latent features from MF ......\n",
      "Begin to retrieve top 20 pairs with ann......\n",
      "top 20 pairs are ready\n",
      "creating training set for neural network......\n",
      "shape of features array in train set: (952005, 40)\n",
      "shape of target array in train set: (952005,)\n",
      "Prediction begins.......\n",
      "creating testing set for neural network.....\n",
      "(399857, 4)\n",
      "shape of features array in test set: (399857, 40)\n",
      "shape of target array in test set: (399857,)\n"
     ]
    },
    {
     "name": "stderr",
     "output_type": "stream",
     "text": [
      "\n",
      "\n",
      "\n",
      " 33%|███▎      | 1/3 [05:18<10:37, 318.93s/it]\u001b[A\u001b[A\u001b[A"
     ]
    },
    {
     "name": "stdout",
     "output_type": "stream",
     "text": [
      "Training begins.......\n",
      "Begin to retrieve latent features from MF ......\n",
      "Begin to retrieve top 20 pairs with ann......\n",
      "top 20 pairs are ready\n",
      "creating training set for neural network......\n",
      "shape of features array in train set: (952005, 40)\n",
      "shape of target array in train set: (952005,)\n",
      "Prediction begins.......\n",
      "creating testing set for neural network.....\n",
      "(399857, 4)\n",
      "shape of features array in test set: (399857, 40)\n",
      "shape of target array in test set: (399857,)\n"
     ]
    },
    {
     "name": "stderr",
     "output_type": "stream",
     "text": [
      "\n",
      "\n",
      "\n",
      " 67%|██████▋   | 2/3 [10:38<05:18, 318.98s/it]\u001b[A\u001b[A\u001b[A"
     ]
    },
    {
     "name": "stdout",
     "output_type": "stream",
     "text": [
      "Training begins.......\n",
      "Begin to retrieve latent features from MF ......\n",
      "Begin to retrieve top 20 pairs with ann......\n",
      "top 20 pairs are ready\n",
      "creating training set for neural network......\n",
      "shape of features array in train set: (952005, 40)\n",
      "shape of target array in train set: (952005,)\n",
      "Prediction begins.......\n",
      "creating testing set for neural network.....\n",
      "(399857, 4)\n",
      "shape of features array in test set: (399857, 40)\n",
      "shape of target array in test set: (399857,)\n"
     ]
    },
    {
     "name": "stderr",
     "output_type": "stream",
     "text": [
      "\n",
      "\n",
      "\n",
      "100%|██████████| 3/3 [15:59<00:00, 319.67s/it]\u001b[A\u001b[A\u001b[A\n",
      "\n",
      "\n",
      "100%|██████████| 4/4 [1:05:02<00:00, 975.71s/it]\u001b[A\u001b[A\n",
      "\n",
      " 33%|███▎      | 1/3 [1:05:02<2:10:05, 3902.85s/it]\u001b[A\n",
      "\n",
      "  0%|          | 0/4 [00:00<?, ?it/s]\u001b[A\u001b[A\n",
      "\n",
      "\n",
      "  0%|          | 0/3 [00:00<?, ?it/s]\u001b[A\u001b[A\u001b[A"
     ]
    },
    {
     "name": "stdout",
     "output_type": "stream",
     "text": [
      "Training begins.......\n",
      "Begin to retrieve latent features from MF ......\n",
      "Begin to retrieve top 30 pairs with ann......\n",
      "top 30 pairs are ready\n",
      "creating training set for neural network......\n",
      "shape of features array in train set: (952005, 10)\n",
      "shape of target array in train set: (952005,)\n",
      "Prediction begins.......\n",
      "creating testing set for neural network.....\n",
      "(599969, 4)\n",
      "shape of features array in test set: (599969, 10)\n",
      "shape of target array in test set: (599969,)\n"
     ]
    },
    {
     "name": "stderr",
     "output_type": "stream",
     "text": [
      "\n",
      "\n",
      "\n",
      " 33%|███▎      | 1/3 [05:15<10:31, 315.72s/it]\u001b[A\u001b[A\u001b[A"
     ]
    },
    {
     "name": "stdout",
     "output_type": "stream",
     "text": [
      "Training begins.......\n",
      "Begin to retrieve latent features from MF ......\n",
      "Begin to retrieve top 30 pairs with ann......\n",
      "top 30 pairs are ready\n",
      "creating training set for neural network......\n",
      "shape of features array in train set: (952005, 10)\n",
      "shape of target array in train set: (952005,)\n",
      "Prediction begins.......\n",
      "creating testing set for neural network.....\n",
      "(599969, 4)\n",
      "shape of features array in test set: (599969, 10)\n",
      "shape of target array in test set: (599969,)\n"
     ]
    },
    {
     "name": "stderr",
     "output_type": "stream",
     "text": [
      "\n",
      "\n",
      "\n",
      " 67%|██████▋   | 2/3 [10:29<05:15, 315.13s/it]\u001b[A\u001b[A\u001b[A"
     ]
    },
    {
     "name": "stdout",
     "output_type": "stream",
     "text": [
      "Training begins.......\n",
      "Begin to retrieve latent features from MF ......\n",
      "Begin to retrieve top 30 pairs with ann......\n",
      "top 30 pairs are ready\n",
      "creating training set for neural network......\n",
      "shape of features array in train set: (952005, 10)\n",
      "shape of target array in train set: (952005,)\n",
      "Prediction begins.......\n",
      "creating testing set for neural network.....\n",
      "(599969, 4)\n",
      "shape of features array in test set: (599969, 10)\n",
      "shape of target array in test set: (599969,)\n"
     ]
    },
    {
     "name": "stderr",
     "output_type": "stream",
     "text": [
      "\n",
      "\n",
      "\n",
      "100%|██████████| 3/3 [15:36<00:00, 312.30s/it]\u001b[A\u001b[A\u001b[A\n",
      "\n",
      "\n",
      " 25%|██▌       | 1/4 [15:36<46:50, 936.89s/it]\u001b[A\u001b[A\n",
      "\n",
      "\n",
      "  0%|          | 0/3 [00:00<?, ?it/s]\u001b[A\u001b[A\u001b[A"
     ]
    },
    {
     "name": "stdout",
     "output_type": "stream",
     "text": [
      "Training begins.......\n",
      "Begin to retrieve latent features from MF ......\n",
      "Begin to retrieve top 30 pairs with ann......\n",
      "top 30 pairs are ready\n",
      "creating training set for neural network......\n",
      "shape of features array in train set: (952005, 20)\n",
      "shape of target array in train set: (952005,)\n",
      "Prediction begins.......\n",
      "creating testing set for neural network.....\n",
      "(599948, 4)\n",
      "shape of features array in test set: (599948, 20)\n",
      "shape of target array in test set: (599948,)\n"
     ]
    },
    {
     "name": "stderr",
     "output_type": "stream",
     "text": [
      "\n",
      "\n",
      "\n",
      " 33%|███▎      | 1/3 [05:17<10:34, 317.25s/it]\u001b[A\u001b[A\u001b[A"
     ]
    },
    {
     "name": "stdout",
     "output_type": "stream",
     "text": [
      "Training begins.......\n",
      "Begin to retrieve latent features from MF ......\n",
      "Begin to retrieve top 30 pairs with ann......\n",
      "top 30 pairs are ready\n",
      "creating training set for neural network......\n",
      "shape of features array in train set: (952005, 20)\n",
      "shape of target array in train set: (952005,)\n",
      "Prediction begins.......\n",
      "creating testing set for neural network.....\n",
      "(599948, 4)\n",
      "shape of features array in test set: (599948, 20)\n",
      "shape of target array in test set: (599948,)\n"
     ]
    },
    {
     "name": "stderr",
     "output_type": "stream",
     "text": [
      "\n",
      "\n",
      "\n",
      " 67%|██████▋   | 2/3 [10:32<05:16, 316.67s/it]\u001b[A\u001b[A\u001b[A"
     ]
    },
    {
     "name": "stdout",
     "output_type": "stream",
     "text": [
      "Training begins.......\n",
      "Begin to retrieve latent features from MF ......\n",
      "Begin to retrieve top 30 pairs with ann......\n",
      "top 30 pairs are ready\n",
      "creating training set for neural network......\n",
      "shape of features array in train set: (952005, 20)\n",
      "shape of target array in train set: (952005,)\n",
      "Prediction begins.......\n",
      "creating testing set for neural network.....\n",
      "(599948, 4)\n",
      "shape of features array in test set: (599948, 20)\n",
      "shape of target array in test set: (599948,)\n"
     ]
    },
    {
     "name": "stderr",
     "output_type": "stream",
     "text": [
      "\n",
      "\n",
      "\n",
      "100%|██████████| 3/3 [15:52<00:00, 317.64s/it]\u001b[A\u001b[A\u001b[A\n",
      "\n",
      "\n",
      " 50%|█████     | 2/4 [31:29<31:23, 941.71s/it]\u001b[A\u001b[A\n",
      "\n",
      "\n",
      "  0%|          | 0/3 [00:00<?, ?it/s]\u001b[A\u001b[A\u001b[A"
     ]
    },
    {
     "name": "stdout",
     "output_type": "stream",
     "text": [
      "Training begins.......\n",
      "Begin to retrieve latent features from MF ......\n",
      "Begin to retrieve top 30 pairs with ann......\n",
      "top 30 pairs are ready\n",
      "creating training set for neural network......\n",
      "shape of features array in train set: (952005, 30)\n",
      "shape of target array in train set: (952005,)\n",
      "Prediction begins.......\n",
      "creating testing set for neural network.....\n",
      "(599926, 4)\n",
      "shape of features array in test set: (599926, 30)\n",
      "shape of target array in test set: (599926,)\n"
     ]
    },
    {
     "name": "stderr",
     "output_type": "stream",
     "text": [
      "\n",
      "\n",
      "\n",
      " 33%|███▎      | 1/3 [05:34<11:09, 334.91s/it]\u001b[A\u001b[A\u001b[A"
     ]
    },
    {
     "name": "stdout",
     "output_type": "stream",
     "text": [
      "Training begins.......\n",
      "Begin to retrieve latent features from MF ......\n",
      "Begin to retrieve top 30 pairs with ann......\n",
      "top 30 pairs are ready\n",
      "creating training set for neural network......\n",
      "shape of features array in train set: (952005, 30)\n",
      "shape of target array in train set: (952005,)\n",
      "Prediction begins.......\n",
      "creating testing set for neural network.....\n",
      "(599926, 4)\n",
      "shape of features array in test set: (599926, 30)\n",
      "shape of target array in test set: (599926,)\n"
     ]
    },
    {
     "name": "stderr",
     "output_type": "stream",
     "text": [
      "\n",
      "\n",
      "\n",
      " 67%|██████▋   | 2/3 [11:06<05:34, 334.02s/it]\u001b[A\u001b[A\u001b[A"
     ]
    },
    {
     "name": "stdout",
     "output_type": "stream",
     "text": [
      "Training begins.......\n",
      "Begin to retrieve latent features from MF ......\n",
      "Begin to retrieve top 30 pairs with ann......\n",
      "top 30 pairs are ready\n",
      "creating training set for neural network......\n",
      "shape of features array in train set: (952005, 30)\n",
      "shape of target array in train set: (952005,)\n",
      "Prediction begins.......\n",
      "creating testing set for neural network.....\n",
      "(599926, 4)\n",
      "shape of features array in test set: (599926, 30)\n",
      "shape of target array in test set: (599926,)\n"
     ]
    },
    {
     "name": "stderr",
     "output_type": "stream",
     "text": [
      "\n",
      "\n",
      "\n",
      "100%|██████████| 3/3 [16:38<00:00, 332.90s/it]\u001b[A\u001b[A\u001b[A\n",
      "\n",
      "\n",
      " 75%|███████▌  | 3/4 [48:08<15:58, 958.80s/it]\u001b[A\u001b[A\n",
      "\n",
      "\n",
      "  0%|          | 0/3 [00:00<?, ?it/s]\u001b[A\u001b[A\u001b[A"
     ]
    },
    {
     "name": "stdout",
     "output_type": "stream",
     "text": [
      "Training begins.......\n",
      "Begin to retrieve latent features from MF ......\n",
      "Begin to retrieve top 30 pairs with ann......\n",
      "top 30 pairs are ready\n",
      "creating training set for neural network......\n",
      "shape of features array in train set: (952005, 40)\n",
      "shape of target array in train set: (952005,)\n",
      "Prediction begins.......\n",
      "creating testing set for neural network.....\n",
      "(599893, 4)\n",
      "shape of features array in test set: (599893, 40)\n",
      "shape of target array in test set: (599893,)\n"
     ]
    },
    {
     "name": "stderr",
     "output_type": "stream",
     "text": [
      "\n",
      "\n",
      "\n",
      " 33%|███▎      | 1/3 [05:43<11:26, 343.18s/it]\u001b[A\u001b[A\u001b[A"
     ]
    },
    {
     "name": "stdout",
     "output_type": "stream",
     "text": [
      "Training begins.......\n",
      "Begin to retrieve latent features from MF ......\n",
      "Begin to retrieve top 30 pairs with ann......\n",
      "top 30 pairs are ready\n",
      "creating training set for neural network......\n",
      "shape of features array in train set: (952005, 40)\n",
      "shape of target array in train set: (952005,)\n",
      "Prediction begins.......\n",
      "creating testing set for neural network.....\n",
      "(599893, 4)\n",
      "shape of features array in test set: (599893, 40)\n",
      "shape of target array in test set: (599893,)\n"
     ]
    },
    {
     "name": "stderr",
     "output_type": "stream",
     "text": [
      "\n",
      "\n",
      "\n",
      " 67%|██████▋   | 2/3 [11:20<05:41, 341.54s/it]\u001b[A\u001b[A\u001b[A"
     ]
    },
    {
     "name": "stdout",
     "output_type": "stream",
     "text": [
      "Training begins.......\n",
      "Begin to retrieve latent features from MF ......\n",
      "Begin to retrieve top 30 pairs with ann......\n",
      "top 30 pairs are ready\n",
      "creating training set for neural network......\n",
      "shape of features array in train set: (952005, 40)\n",
      "shape of target array in train set: (952005,)\n",
      "Prediction begins.......\n",
      "creating testing set for neural network.....\n",
      "(599893, 4)\n",
      "shape of features array in test set: (599893, 40)\n",
      "shape of target array in test set: (599893,)\n"
     ]
    },
    {
     "name": "stderr",
     "output_type": "stream",
     "text": [
      "\n",
      "\n",
      "\n",
      "100%|██████████| 3/3 [16:59<00:00, 339.87s/it]\u001b[A\u001b[A\u001b[A\n",
      "\n",
      "\n",
      "100%|██████████| 4/4 [1:05:08<00:00, 977.03s/it]\u001b[A\u001b[A\n",
      "\n",
      " 67%|██████▋   | 2/3 [2:10:10<1:05:04, 3904.44s/it]\u001b[A\n",
      "\n",
      "  0%|          | 0/4 [00:00<?, ?it/s]\u001b[A\u001b[A\n",
      "\n",
      "\n",
      "  0%|          | 0/3 [00:00<?, ?it/s]\u001b[A\u001b[A\u001b[A"
     ]
    },
    {
     "name": "stdout",
     "output_type": "stream",
     "text": [
      "Training begins.......\n",
      "Begin to retrieve latent features from MF ......\n",
      "Begin to retrieve top 50 pairs with ann......\n",
      "top 50 pairs are ready\n",
      "creating training set for neural network......\n",
      "shape of features array in train set: (952005, 10)\n",
      "shape of target array in train set: (952005,)\n",
      "Prediction begins.......\n",
      "creating testing set for neural network.....\n",
      "(999974, 4)\n",
      "shape of features array in test set: (999974, 10)\n",
      "shape of target array in test set: (999974,)\n"
     ]
    },
    {
     "name": "stderr",
     "output_type": "stream",
     "text": [
      "\n",
      "\n",
      "\n",
      " 33%|███▎      | 1/3 [05:50<11:41, 350.63s/it]\u001b[A\u001b[A\u001b[A"
     ]
    },
    {
     "name": "stdout",
     "output_type": "stream",
     "text": [
      "Training begins.......\n",
      "Begin to retrieve latent features from MF ......\n",
      "Begin to retrieve top 50 pairs with ann......\n",
      "top 50 pairs are ready\n",
      "creating training set for neural network......\n",
      "shape of features array in train set: (952005, 10)\n",
      "shape of target array in train set: (952005,)\n",
      "Prediction begins.......\n",
      "creating testing set for neural network.....\n",
      "(999974, 4)\n",
      "shape of features array in test set: (999974, 10)\n",
      "shape of target array in test set: (999974,)\n"
     ]
    },
    {
     "name": "stderr",
     "output_type": "stream",
     "text": [
      "\n",
      "\n",
      "\n",
      " 67%|██████▋   | 2/3 [11:37<05:49, 349.62s/it]\u001b[A\u001b[A\u001b[A"
     ]
    },
    {
     "name": "stdout",
     "output_type": "stream",
     "text": [
      "Training begins.......\n",
      "Begin to retrieve latent features from MF ......\n",
      "Begin to retrieve top 50 pairs with ann......\n",
      "top 50 pairs are ready\n",
      "creating training set for neural network......\n",
      "shape of features array in train set: (952005, 10)\n",
      "shape of target array in train set: (952005,)\n",
      "Prediction begins.......\n",
      "creating testing set for neural network.....\n",
      "(999974, 4)\n",
      "shape of features array in test set: (999974, 10)\n",
      "shape of target array in test set: (999974,)\n"
     ]
    },
    {
     "name": "stderr",
     "output_type": "stream",
     "text": [
      "\n",
      "\n",
      "\n",
      "100%|██████████| 3/3 [17:22<00:00, 347.59s/it]\u001b[A\u001b[A\u001b[A\n",
      "\n",
      "\n",
      " 25%|██▌       | 1/4 [17:22<52:08, 1042.78s/it]\u001b[A\u001b[A\n",
      "\n",
      "\n",
      "  0%|          | 0/3 [00:00<?, ?it/s]\u001b[A\u001b[A\u001b[A"
     ]
    },
    {
     "name": "stdout",
     "output_type": "stream",
     "text": [
      "Training begins.......\n",
      "Begin to retrieve latent features from MF ......\n",
      "Begin to retrieve top 50 pairs with ann......\n",
      "top 50 pairs are ready\n",
      "creating training set for neural network......\n",
      "shape of features array in train set: (952005, 20)\n",
      "shape of target array in train set: (952005,)\n",
      "Prediction begins.......\n",
      "creating testing set for neural network.....\n",
      "(999951, 4)\n",
      "shape of features array in test set: (999951, 20)\n",
      "shape of target array in test set: (999951,)\n"
     ]
    },
    {
     "name": "stderr",
     "output_type": "stream",
     "text": [
      "\n",
      "\n",
      "\n",
      " 33%|███▎      | 1/3 [05:55<11:51, 355.61s/it]\u001b[A\u001b[A\u001b[A"
     ]
    },
    {
     "name": "stdout",
     "output_type": "stream",
     "text": [
      "Training begins.......\n",
      "Begin to retrieve latent features from MF ......\n",
      "Begin to retrieve top 50 pairs with ann......\n",
      "top 50 pairs are ready\n",
      "creating training set for neural network......\n",
      "shape of features array in train set: (952005, 20)\n",
      "shape of target array in train set: (952005,)\n",
      "Prediction begins.......\n",
      "creating testing set for neural network.....\n",
      "(999951, 4)\n",
      "shape of features array in test set: (999951, 20)\n",
      "shape of target array in test set: (999951,)\n"
     ]
    },
    {
     "name": "stderr",
     "output_type": "stream",
     "text": [
      "\n",
      "\n",
      "\n",
      " 67%|██████▋   | 2/3 [11:52<05:55, 355.91s/it]\u001b[A\u001b[A\u001b[A"
     ]
    },
    {
     "name": "stdout",
     "output_type": "stream",
     "text": [
      "Training begins.......\n",
      "Begin to retrieve latent features from MF ......\n",
      "Begin to retrieve top 50 pairs with ann......\n",
      "top 50 pairs are ready\n",
      "creating training set for neural network......\n",
      "shape of features array in train set: (952005, 20)\n",
      "shape of target array in train set: (952005,)\n",
      "Prediction begins.......\n",
      "creating testing set for neural network.....\n",
      "(999951, 4)\n",
      "shape of features array in test set: (999951, 20)\n",
      "shape of target array in test set: (999951,)\n"
     ]
    },
    {
     "name": "stderr",
     "output_type": "stream",
     "text": [
      "\n",
      "\n",
      "\n",
      "100%|██████████| 3/3 [17:49<00:00, 356.37s/it]\u001b[A\u001b[A\u001b[A\n",
      "\n",
      "\n",
      " 50%|█████     | 2/4 [35:11<35:01, 1050.68s/it]\u001b[A\u001b[A\n",
      "\n",
      "\n",
      "  0%|          | 0/3 [00:00<?, ?it/s]\u001b[A\u001b[A\u001b[A"
     ]
    },
    {
     "name": "stdout",
     "output_type": "stream",
     "text": [
      "Training begins.......\n",
      "Begin to retrieve latent features from MF ......\n",
      "Begin to retrieve top 50 pairs with ann......\n",
      "top 50 pairs are ready\n",
      "creating training set for neural network......\n",
      "shape of features array in train set: (952005, 30)\n",
      "shape of target array in train set: (952005,)\n",
      "Prediction begins.......\n",
      "creating testing set for neural network.....\n",
      "(999928, 4)\n",
      "shape of features array in test set: (999928, 30)\n",
      "shape of target array in test set: (999928,)\n"
     ]
    },
    {
     "name": "stderr",
     "output_type": "stream",
     "text": [
      "\n",
      "\n",
      "\n",
      " 33%|███▎      | 1/3 [06:11<12:23, 371.87s/it]\u001b[A\u001b[A\u001b[A"
     ]
    },
    {
     "name": "stdout",
     "output_type": "stream",
     "text": [
      "Training begins.......\n",
      "Begin to retrieve latent features from MF ......\n",
      "Begin to retrieve top 50 pairs with ann......\n",
      "top 50 pairs are ready\n",
      "creating training set for neural network......\n",
      "shape of features array in train set: (952005, 30)\n",
      "shape of target array in train set: (952005,)\n",
      "Prediction begins.......\n",
      "creating testing set for neural network.....\n",
      "(999928, 4)\n",
      "shape of features array in test set: (999928, 30)\n",
      "shape of target array in test set: (999928,)\n"
     ]
    },
    {
     "name": "stderr",
     "output_type": "stream",
     "text": [
      "\n",
      "\n",
      "\n",
      " 67%|██████▋   | 2/3 [12:22<06:11, 371.49s/it]\u001b[A\u001b[A\u001b[A"
     ]
    },
    {
     "name": "stdout",
     "output_type": "stream",
     "text": [
      "Training begins.......\n",
      "Begin to retrieve latent features from MF ......\n",
      "Begin to retrieve top 50 pairs with ann......\n",
      "top 50 pairs are ready\n",
      "creating training set for neural network......\n",
      "shape of features array in train set: (952005, 30)\n",
      "shape of target array in train set: (952005,)\n",
      "Prediction begins.......\n",
      "creating testing set for neural network.....\n",
      "(999928, 4)\n",
      "shape of features array in test set: (999928, 30)\n",
      "shape of target array in test set: (999928,)\n"
     ]
    },
    {
     "name": "stderr",
     "output_type": "stream",
     "text": [
      "\n",
      "\n",
      "\n",
      "100%|██████████| 3/3 [18:22<00:00, 367.55s/it]\u001b[A\u001b[A\u001b[A\n",
      "\n",
      "\n",
      " 75%|███████▌  | 3/4 [53:34<17:46, 1066.27s/it]\u001b[A\u001b[A\n",
      "\n",
      "\n",
      "  0%|          | 0/3 [00:00<?, ?it/s]\u001b[A\u001b[A\u001b[A"
     ]
    },
    {
     "name": "stdout",
     "output_type": "stream",
     "text": [
      "Training begins.......\n",
      "Begin to retrieve latent features from MF ......\n",
      "Begin to retrieve top 50 pairs with ann......\n",
      "top 50 pairs are ready\n",
      "creating training set for neural network......\n",
      "shape of features array in train set: (952005, 40)\n",
      "shape of target array in train set: (952005,)\n",
      "Prediction begins.......\n",
      "creating testing set for neural network.....\n",
      "(999904, 4)\n",
      "shape of features array in test set: (999904, 40)\n",
      "shape of target array in test set: (999904,)\n"
     ]
    },
    {
     "name": "stderr",
     "output_type": "stream",
     "text": [
      "\n",
      "\n",
      "\n",
      " 33%|███▎      | 1/3 [06:11<12:22, 371.29s/it]\u001b[A\u001b[A\u001b[A"
     ]
    },
    {
     "name": "stdout",
     "output_type": "stream",
     "text": [
      "Training begins.......\n",
      "Begin to retrieve latent features from MF ......\n",
      "Begin to retrieve top 50 pairs with ann......\n",
      "top 50 pairs are ready\n",
      "creating training set for neural network......\n",
      "shape of features array in train set: (952005, 40)\n",
      "shape of target array in train set: (952005,)\n",
      "Prediction begins.......\n",
      "creating testing set for neural network.....\n",
      "(999904, 4)\n",
      "shape of features array in test set: (999904, 40)\n",
      "shape of target array in test set: (999904,)\n"
     ]
    },
    {
     "name": "stderr",
     "output_type": "stream",
     "text": [
      "\n",
      "\n",
      "\n",
      " 67%|██████▋   | 2/3 [12:21<06:10, 370.97s/it]\u001b[A\u001b[A\u001b[A"
     ]
    },
    {
     "name": "stdout",
     "output_type": "stream",
     "text": [
      "Training begins.......\n",
      "Begin to retrieve latent features from MF ......\n",
      "Begin to retrieve top 50 pairs with ann......\n",
      "top 50 pairs are ready\n",
      "creating training set for neural network......\n",
      "shape of features array in train set: (952005, 40)\n",
      "shape of target array in train set: (952005,)\n",
      "Prediction begins.......\n",
      "creating testing set for neural network.....\n",
      "(999904, 4)\n",
      "shape of features array in test set: (999904, 40)\n",
      "shape of target array in test set: (999904,)\n"
     ]
    },
    {
     "name": "stderr",
     "output_type": "stream",
     "text": [
      "\n",
      "\n",
      "\n",
      "100%|██████████| 3/3 [18:31<00:00, 370.54s/it]\u001b[A\u001b[A\u001b[A\n",
      "\n",
      "\n",
      "100%|██████████| 4/4 [1:12:06<00:00, 1081.55s/it]\u001b[A\u001b[A\n",
      "\n",
      "100%|██████████| 3/3 [3:22:17<00:00, 4045.74s/it]  \u001b[A\n",
      " 25%|██▌       | 1/4 [3:22:17<10:06:51, 12137.22s/it]\n",
      "  0%|          | 0/3 [00:00<?, ?it/s]\u001b[A\n",
      "\n",
      "  0%|          | 0/4 [00:00<?, ?it/s]\u001b[A\u001b[A\n",
      "\n",
      "\n",
      "  0%|          | 0/3 [00:00<?, ?it/s]\u001b[A\u001b[A\u001b[A"
     ]
    },
    {
     "name": "stdout",
     "output_type": "stream",
     "text": [
      "Training begins.......\n",
      "Begin to retrieve latent features from MF ......\n",
      "Begin to retrieve top 20 pairs with ann......\n",
      "top 20 pairs are ready\n",
      "creating training set for neural network......\n",
      "shape of features array in train set: (952005, 10)\n",
      "shape of target array in train set: (952005,)\n",
      "Prediction begins.......\n",
      "creating testing set for neural network.....\n",
      "(399992, 4)\n",
      "shape of features array in test set: (399992, 10)\n",
      "shape of target array in test set: (399992,)\n"
     ]
    },
    {
     "name": "stderr",
     "output_type": "stream",
     "text": [
      "\n",
      "\n",
      "\n",
      " 33%|███▎      | 1/3 [04:57<09:55, 297.57s/it]\u001b[A\u001b[A\u001b[A"
     ]
    },
    {
     "name": "stdout",
     "output_type": "stream",
     "text": [
      "Training begins.......\n",
      "Begin to retrieve latent features from MF ......\n",
      "Begin to retrieve top 20 pairs with ann......\n",
      "top 20 pairs are ready\n",
      "creating training set for neural network......\n",
      "shape of features array in train set: (952005, 10)\n",
      "shape of target array in train set: (952005,)\n",
      "Prediction begins.......\n",
      "creating testing set for neural network.....\n",
      "(399992, 4)\n",
      "shape of features array in test set: (399992, 10)\n",
      "shape of target array in test set: (399992,)\n"
     ]
    },
    {
     "name": "stderr",
     "output_type": "stream",
     "text": [
      "\n",
      "\n",
      "\n",
      " 67%|██████▋   | 2/3 [09:58<04:58, 298.58s/it]\u001b[A\u001b[A\u001b[A"
     ]
    },
    {
     "name": "stdout",
     "output_type": "stream",
     "text": [
      "Training begins.......\n",
      "Begin to retrieve latent features from MF ......\n",
      "Begin to retrieve top 20 pairs with ann......\n",
      "top 20 pairs are ready\n",
      "creating training set for neural network......\n",
      "shape of features array in train set: (952005, 10)\n",
      "shape of target array in train set: (952005,)\n",
      "Prediction begins.......\n",
      "creating testing set for neural network.....\n",
      "(399992, 4)\n",
      "shape of features array in test set: (399992, 10)\n",
      "shape of target array in test set: (399992,)\n"
     ]
    },
    {
     "name": "stderr",
     "output_type": "stream",
     "text": [
      "\n",
      "\n",
      "\n",
      "100%|██████████| 3/3 [15:01<00:00, 300.65s/it]\u001b[A\u001b[A\u001b[A\n",
      "\n",
      "\n",
      " 25%|██▌       | 1/4 [15:01<45:05, 901.97s/it]\u001b[A\u001b[A\n",
      "\n",
      "\n",
      "  0%|          | 0/3 [00:00<?, ?it/s]\u001b[A\u001b[A\u001b[A"
     ]
    },
    {
     "name": "stdout",
     "output_type": "stream",
     "text": [
      "Training begins.......\n",
      "Begin to retrieve latent features from MF ......\n",
      "Begin to retrieve top 20 pairs with ann......\n",
      "top 20 pairs are ready\n",
      "creating training set for neural network......\n",
      "shape of features array in train set: (952005, 20)\n",
      "shape of target array in train set: (952005,)\n",
      "Prediction begins.......\n",
      "creating testing set for neural network.....\n",
      "(399981, 4)\n",
      "shape of features array in test set: (399981, 20)\n",
      "shape of target array in test set: (399981,)\n"
     ]
    },
    {
     "name": "stderr",
     "output_type": "stream",
     "text": [
      "\n",
      "\n",
      "\n",
      " 33%|███▎      | 1/3 [05:16<10:32, 316.28s/it]\u001b[A\u001b[A\u001b[A"
     ]
    },
    {
     "name": "stdout",
     "output_type": "stream",
     "text": [
      "Training begins.......\n",
      "Begin to retrieve latent features from MF ......\n",
      "Begin to retrieve top 20 pairs with ann......\n",
      "top 20 pairs are ready\n",
      "creating training set for neural network......\n",
      "shape of features array in train set: (952005, 20)\n",
      "shape of target array in train set: (952005,)\n",
      "Prediction begins.......\n",
      "creating testing set for neural network.....\n",
      "(399981, 4)\n",
      "shape of features array in test set: (399981, 20)\n",
      "shape of target array in test set: (399981,)\n"
     ]
    },
    {
     "name": "stderr",
     "output_type": "stream",
     "text": [
      "\n",
      "\n",
      "\n",
      " 67%|██████▋   | 2/3 [10:22<05:13, 313.32s/it]\u001b[A\u001b[A\u001b[A"
     ]
    },
    {
     "name": "stdout",
     "output_type": "stream",
     "text": [
      "Training begins.......\n",
      "Begin to retrieve latent features from MF ......\n",
      "Begin to retrieve top 20 pairs with ann......\n",
      "top 20 pairs are ready\n",
      "creating training set for neural network......\n",
      "shape of features array in train set: (952005, 20)\n",
      "shape of target array in train set: (952005,)\n",
      "Prediction begins.......\n",
      "creating testing set for neural network.....\n",
      "(399981, 4)\n",
      "shape of features array in test set: (399981, 20)\n",
      "shape of target array in test set: (399981,)\n"
     ]
    },
    {
     "name": "stderr",
     "output_type": "stream",
     "text": [
      "\n",
      "\n",
      "\n",
      "100%|██████████| 3/3 [15:24<00:00, 308.17s/it]\u001b[A\u001b[A\u001b[A\n",
      "\n",
      "\n",
      " 50%|█████     | 2/4 [30:26<30:17, 908.74s/it]\u001b[A\u001b[A\n",
      "\n",
      "\n",
      "  0%|          | 0/3 [00:00<?, ?it/s]\u001b[A\u001b[A\u001b[A"
     ]
    },
    {
     "name": "stdout",
     "output_type": "stream",
     "text": [
      "Training begins.......\n",
      "Begin to retrieve latent features from MF ......\n",
      "Begin to retrieve top 20 pairs with ann......\n",
      "top 20 pairs are ready\n",
      "creating training set for neural network......\n",
      "shape of features array in train set: (952005, 30)\n",
      "shape of target array in train set: (952005,)\n",
      "Prediction begins.......\n",
      "creating testing set for neural network.....\n",
      "(399970, 4)\n",
      "shape of features array in test set: (399970, 30)\n",
      "shape of target array in test set: (399970,)\n"
     ]
    },
    {
     "name": "stderr",
     "output_type": "stream",
     "text": [
      "\n",
      "\n",
      "\n",
      " 33%|███▎      | 1/3 [05:14<10:29, 314.68s/it]\u001b[A\u001b[A\u001b[A"
     ]
    },
    {
     "name": "stdout",
     "output_type": "stream",
     "text": [
      "Training begins.......\n",
      "Begin to retrieve latent features from MF ......\n",
      "Begin to retrieve top 20 pairs with ann......\n",
      "top 20 pairs are ready\n",
      "creating training set for neural network......\n",
      "shape of features array in train set: (952005, 30)\n",
      "shape of target array in train set: (952005,)\n",
      "Prediction begins.......\n",
      "creating testing set for neural network.....\n",
      "(399970, 4)\n",
      "shape of features array in test set: (399970, 30)\n",
      "shape of target array in test set: (399970,)\n"
     ]
    },
    {
     "name": "stderr",
     "output_type": "stream",
     "text": [
      "\n",
      "\n",
      "\n",
      " 67%|██████▋   | 2/3 [10:25<05:13, 313.45s/it]\u001b[A\u001b[A\u001b[A"
     ]
    },
    {
     "name": "stdout",
     "output_type": "stream",
     "text": [
      "Training begins.......\n",
      "Begin to retrieve latent features from MF ......\n",
      "Begin to retrieve top 20 pairs with ann......\n",
      "top 20 pairs are ready\n",
      "creating training set for neural network......\n",
      "shape of features array in train set: (952005, 30)\n",
      "shape of target array in train set: (952005,)\n",
      "Prediction begins.......\n",
      "creating testing set for neural network.....\n",
      "(399970, 4)\n",
      "shape of features array in test set: (399970, 30)\n",
      "shape of target array in test set: (399970,)\n"
     ]
    },
    {
     "name": "stderr",
     "output_type": "stream",
     "text": [
      "\n",
      "\n",
      "\n",
      "100%|██████████| 3/3 [15:38<00:00, 312.70s/it]\u001b[A\u001b[A\u001b[A\n",
      "\n",
      "\n",
      " 75%|███████▌  | 3/4 [46:04<15:17, 917.55s/it]\u001b[A\u001b[A\n",
      "\n",
      "\n",
      "  0%|          | 0/3 [00:00<?, ?it/s]\u001b[A\u001b[A\u001b[A"
     ]
    },
    {
     "name": "stdout",
     "output_type": "stream",
     "text": [
      "Training begins.......\n",
      "Begin to retrieve latent features from MF ......\n",
      "Begin to retrieve top 20 pairs with ann......\n",
      "top 20 pairs are ready\n",
      "creating training set for neural network......\n",
      "shape of features array in train set: (952005, 40)\n",
      "shape of target array in train set: (952005,)\n",
      "Prediction begins.......\n",
      "creating testing set for neural network.....\n",
      "(399969, 4)\n",
      "shape of features array in test set: (399969, 40)\n",
      "shape of target array in test set: (399969,)\n"
     ]
    },
    {
     "name": "stderr",
     "output_type": "stream",
     "text": [
      "\n",
      "\n",
      "\n",
      " 33%|███▎      | 1/3 [05:19<10:39, 319.61s/it]\u001b[A\u001b[A\u001b[A"
     ]
    },
    {
     "name": "stdout",
     "output_type": "stream",
     "text": [
      "Training begins.......\n",
      "Begin to retrieve latent features from MF ......\n",
      "Begin to retrieve top 20 pairs with ann......\n",
      "top 20 pairs are ready\n",
      "creating training set for neural network......\n",
      "shape of features array in train set: (952005, 40)\n",
      "shape of target array in train set: (952005,)\n",
      "Prediction begins.......\n",
      "creating testing set for neural network.....\n",
      "(399969, 4)\n",
      "shape of features array in test set: (399969, 40)\n",
      "shape of target array in test set: (399969,)\n"
     ]
    },
    {
     "name": "stderr",
     "output_type": "stream",
     "text": [
      "\n",
      "\n",
      "\n",
      " 67%|██████▋   | 2/3 [10:36<05:18, 318.92s/it]\u001b[A\u001b[A\u001b[A"
     ]
    },
    {
     "name": "stdout",
     "output_type": "stream",
     "text": [
      "Training begins.......\n",
      "Begin to retrieve latent features from MF ......\n",
      "Begin to retrieve top 20 pairs with ann......\n",
      "top 20 pairs are ready\n",
      "creating training set for neural network......\n",
      "shape of features array in train set: (952005, 40)\n",
      "shape of target array in train set: (952005,)\n",
      "Prediction begins.......\n",
      "creating testing set for neural network.....\n",
      "(399969, 4)\n",
      "shape of features array in test set: (399969, 40)\n",
      "shape of target array in test set: (399969,)\n"
     ]
    },
    {
     "name": "stderr",
     "output_type": "stream",
     "text": [
      "\n",
      "\n",
      "\n",
      "100%|██████████| 3/3 [15:52<00:00, 317.52s/it]\u001b[A\u001b[A\u001b[A\n",
      "\n",
      "\n",
      "100%|██████████| 4/4 [1:01:57<00:00, 929.29s/it]\u001b[A\u001b[A\n",
      "\n",
      " 33%|███▎      | 1/3 [1:01:57<2:03:54, 3717.17s/it]\u001b[A\n",
      "\n",
      "  0%|          | 0/4 [00:00<?, ?it/s]\u001b[A\u001b[A\n",
      "\n",
      "\n",
      "  0%|          | 0/3 [00:00<?, ?it/s]\u001b[A\u001b[A\u001b[A"
     ]
    },
    {
     "name": "stdout",
     "output_type": "stream",
     "text": [
      "Training begins.......\n",
      "Begin to retrieve latent features from MF ......\n",
      "Begin to retrieve top 30 pairs with ann......\n",
      "top 30 pairs are ready\n",
      "creating training set for neural network......\n",
      "shape of features array in train set: (952005, 10)\n",
      "shape of target array in train set: (952005,)\n",
      "Prediction begins.......\n",
      "creating testing set for neural network.....\n",
      "(599994, 4)\n",
      "shape of features array in test set: (599994, 10)\n",
      "shape of target array in test set: (599994,)\n"
     ]
    },
    {
     "name": "stderr",
     "output_type": "stream",
     "text": [
      "\n",
      "\n",
      "\n",
      " 33%|███▎      | 1/3 [05:20<10:40, 320.05s/it]\u001b[A\u001b[A\u001b[A"
     ]
    },
    {
     "name": "stdout",
     "output_type": "stream",
     "text": [
      "Training begins.......\n",
      "Begin to retrieve latent features from MF ......\n",
      "Begin to retrieve top 30 pairs with ann......\n",
      "top 30 pairs are ready\n",
      "creating training set for neural network......\n",
      "shape of features array in train set: (952005, 10)\n",
      "shape of target array in train set: (952005,)\n",
      "Prediction begins.......\n",
      "creating testing set for neural network.....\n",
      "(599994, 4)\n",
      "shape of features array in test set: (599994, 10)\n",
      "shape of target array in test set: (599994,)\n"
     ]
    },
    {
     "name": "stderr",
     "output_type": "stream",
     "text": [
      "\n",
      "\n",
      "\n",
      " 67%|██████▋   | 2/3 [10:39<05:19, 319.88s/it]\u001b[A\u001b[A\u001b[A"
     ]
    },
    {
     "name": "stdout",
     "output_type": "stream",
     "text": [
      "Training begins.......\n",
      "Begin to retrieve latent features from MF ......\n",
      "Begin to retrieve top 30 pairs with ann......\n",
      "top 30 pairs are ready\n",
      "creating training set for neural network......\n",
      "shape of features array in train set: (952005, 10)\n",
      "shape of target array in train set: (952005,)\n",
      "Prediction begins.......\n",
      "creating testing set for neural network.....\n",
      "(599994, 4)\n",
      "shape of features array in test set: (599994, 10)\n",
      "shape of target array in test set: (599994,)\n"
     ]
    },
    {
     "name": "stderr",
     "output_type": "stream",
     "text": [
      "\n",
      "\n",
      "\n",
      "100%|██████████| 3/3 [16:02<00:00, 320.99s/it]\u001b[A\u001b[A\u001b[A\n",
      "\n",
      "\n",
      " 25%|██▌       | 1/4 [16:02<48:08, 962.96s/it]\u001b[A\u001b[A\n",
      "\n",
      "\n",
      "  0%|          | 0/3 [00:00<?, ?it/s]\u001b[A\u001b[A\u001b[A"
     ]
    },
    {
     "name": "stdout",
     "output_type": "stream",
     "text": [
      "Training begins.......\n",
      "Begin to retrieve latent features from MF ......\n",
      "Begin to retrieve top 30 pairs with ann......\n",
      "top 30 pairs are ready\n",
      "creating training set for neural network......\n",
      "shape of features array in train set: (952005, 20)\n",
      "shape of target array in train set: (952005,)\n",
      "Prediction begins.......\n",
      "creating testing set for neural network.....\n",
      "(599987, 4)\n",
      "shape of features array in test set: (599987, 20)\n",
      "shape of target array in test set: (599987,)\n"
     ]
    },
    {
     "name": "stderr",
     "output_type": "stream",
     "text": [
      "\n",
      "\n",
      "\n",
      " 33%|███▎      | 1/3 [05:24<10:49, 324.98s/it]\u001b[A\u001b[A\u001b[A"
     ]
    },
    {
     "name": "stdout",
     "output_type": "stream",
     "text": [
      "Training begins.......\n",
      "Begin to retrieve latent features from MF ......\n",
      "Begin to retrieve top 30 pairs with ann......\n",
      "top 30 pairs are ready\n",
      "creating training set for neural network......\n",
      "shape of features array in train set: (952005, 20)\n",
      "shape of target array in train set: (952005,)\n",
      "Prediction begins.......\n",
      "creating testing set for neural network.....\n",
      "(599987, 4)\n",
      "shape of features array in test set: (599987, 20)\n",
      "shape of target array in test set: (599987,)\n"
     ]
    },
    {
     "name": "stderr",
     "output_type": "stream",
     "text": [
      "\n",
      "\n",
      "\n",
      " 67%|██████▋   | 2/3 [10:43<05:22, 322.92s/it]\u001b[A\u001b[A\u001b[A"
     ]
    },
    {
     "name": "stdout",
     "output_type": "stream",
     "text": [
      "Training begins.......\n",
      "Begin to retrieve latent features from MF ......\n",
      "Begin to retrieve top 30 pairs with ann......\n",
      "top 30 pairs are ready\n",
      "creating training set for neural network......\n",
      "shape of features array in train set: (952005, 20)\n",
      "shape of target array in train set: (952005,)\n",
      "Prediction begins.......\n",
      "creating testing set for neural network.....\n",
      "(599987, 4)\n",
      "shape of features array in test set: (599987, 20)\n",
      "shape of target array in test set: (599987,)\n"
     ]
    },
    {
     "name": "stderr",
     "output_type": "stream",
     "text": [
      "\n",
      "\n",
      "\n",
      "100%|██████████| 3/3 [16:00<00:00, 320.17s/it]\u001b[A\u001b[A\u001b[A\n",
      "\n",
      "\n",
      " 50%|█████     | 2/4 [32:03<32:04, 962.23s/it]\u001b[A\u001b[A\n",
      "\n",
      "\n",
      "  0%|          | 0/3 [00:00<?, ?it/s]\u001b[A\u001b[A\u001b[A"
     ]
    },
    {
     "name": "stdout",
     "output_type": "stream",
     "text": [
      "Training begins.......\n",
      "Begin to retrieve latent features from MF ......\n",
      "Begin to retrieve top 30 pairs with ann......\n",
      "top 30 pairs are ready\n",
      "creating training set for neural network......\n",
      "shape of features array in train set: (952005, 30)\n",
      "shape of target array in train set: (952005,)\n",
      "Prediction begins.......\n",
      "creating testing set for neural network.....\n",
      "(599984, 4)\n",
      "shape of features array in test set: (599984, 30)\n",
      "shape of target array in test set: (599984,)\n"
     ]
    },
    {
     "name": "stderr",
     "output_type": "stream",
     "text": [
      "\n",
      "\n",
      "\n",
      " 33%|███▎      | 1/3 [05:35<11:11, 335.56s/it]\u001b[A\u001b[A\u001b[A"
     ]
    },
    {
     "name": "stdout",
     "output_type": "stream",
     "text": [
      "Training begins.......\n",
      "Begin to retrieve latent features from MF ......\n",
      "Begin to retrieve top 30 pairs with ann......\n",
      "top 30 pairs are ready\n",
      "creating training set for neural network......\n",
      "shape of features array in train set: (952005, 30)\n",
      "shape of target array in train set: (952005,)\n",
      "Prediction begins.......\n",
      "creating testing set for neural network.....\n",
      "(599984, 4)\n",
      "shape of features array in test set: (599984, 30)\n",
      "shape of target array in test set: (599984,)\n"
     ]
    },
    {
     "name": "stderr",
     "output_type": "stream",
     "text": [
      "\n",
      "\n",
      "\n",
      " 67%|██████▋   | 2/3 [11:12<05:35, 335.98s/it]\u001b[A\u001b[A\u001b[A"
     ]
    },
    {
     "name": "stdout",
     "output_type": "stream",
     "text": [
      "Training begins.......\n",
      "Begin to retrieve latent features from MF ......\n",
      "Begin to retrieve top 30 pairs with ann......\n",
      "top 30 pairs are ready\n",
      "creating training set for neural network......\n",
      "shape of features array in train set: (952005, 30)\n",
      "shape of target array in train set: (952005,)\n",
      "Prediction begins.......\n",
      "creating testing set for neural network.....\n",
      "(599984, 4)\n",
      "shape of features array in test set: (599984, 30)\n",
      "shape of target array in test set: (599984,)\n"
     ]
    },
    {
     "name": "stderr",
     "output_type": "stream",
     "text": [
      "\n",
      "\n",
      "\n",
      "100%|██████████| 3/3 [16:44<00:00, 334.82s/it]\u001b[A\u001b[A\u001b[A\n",
      "\n",
      "\n",
      " 75%|███████▌  | 3/4 [48:47<16:14, 974.90s/it]\u001b[A\u001b[A\n",
      "\n",
      "\n",
      "  0%|          | 0/3 [00:00<?, ?it/s]\u001b[A\u001b[A\u001b[A"
     ]
    },
    {
     "name": "stdout",
     "output_type": "stream",
     "text": [
      "Training begins.......\n",
      "Begin to retrieve latent features from MF ......\n",
      "Begin to retrieve top 30 pairs with ann......\n",
      "top 30 pairs are ready\n",
      "creating training set for neural network......\n",
      "shape of features array in train set: (952005, 40)\n",
      "shape of target array in train set: (952005,)\n",
      "Prediction begins.......\n",
      "creating testing set for neural network.....\n",
      "(599986, 4)\n",
      "shape of features array in test set: (599986, 40)\n",
      "shape of target array in test set: (599986,)\n"
     ]
    },
    {
     "name": "stderr",
     "output_type": "stream",
     "text": [
      "\n",
      "\n",
      "\n",
      " 33%|███▎      | 1/3 [05:39<11:19, 339.93s/it]\u001b[A\u001b[A\u001b[A"
     ]
    },
    {
     "name": "stdout",
     "output_type": "stream",
     "text": [
      "Training begins.......\n",
      "Begin to retrieve latent features from MF ......\n",
      "Begin to retrieve top 30 pairs with ann......\n",
      "top 30 pairs are ready\n",
      "creating training set for neural network......\n",
      "shape of features array in train set: (952005, 40)\n",
      "shape of target array in train set: (952005,)\n",
      "Prediction begins.......\n",
      "creating testing set for neural network.....\n",
      "(599986, 4)\n",
      "shape of features array in test set: (599986, 40)\n",
      "shape of target array in test set: (599986,)\n"
     ]
    },
    {
     "name": "stderr",
     "output_type": "stream",
     "text": [
      "\n",
      "\n",
      "\n",
      " 67%|██████▋   | 2/3 [11:16<05:38, 338.80s/it]\u001b[A\u001b[A\u001b[A"
     ]
    },
    {
     "name": "stdout",
     "output_type": "stream",
     "text": [
      "Training begins.......\n",
      "Begin to retrieve latent features from MF ......\n",
      "Begin to retrieve top 30 pairs with ann......\n",
      "top 30 pairs are ready\n",
      "creating training set for neural network......\n",
      "shape of features array in train set: (952005, 40)\n",
      "shape of target array in train set: (952005,)\n",
      "Prediction begins.......\n",
      "creating testing set for neural network.....\n",
      "(599986, 4)\n",
      "shape of features array in test set: (599986, 40)\n",
      "shape of target array in test set: (599986,)\n"
     ]
    },
    {
     "name": "stderr",
     "output_type": "stream",
     "text": [
      "\n",
      "\n",
      "\n",
      "100%|██████████| 3/3 [16:56<00:00, 338.94s/it]\u001b[A\u001b[A\u001b[A\n",
      "\n",
      "\n",
      "100%|██████████| 4/4 [1:05:44<00:00, 986.20s/it]\u001b[A\u001b[A\n",
      "\n",
      " 67%|██████▋   | 2/3 [2:07:41<1:03:05, 3785.46s/it]\u001b[A\n",
      "\n",
      "  0%|          | 0/4 [00:00<?, ?it/s]\u001b[A\u001b[A\n",
      "\n",
      "\n",
      "  0%|          | 0/3 [00:00<?, ?it/s]\u001b[A\u001b[A\u001b[A"
     ]
    },
    {
     "name": "stdout",
     "output_type": "stream",
     "text": [
      "Training begins.......\n",
      "Begin to retrieve latent features from MF ......\n",
      "Begin to retrieve top 50 pairs with ann......\n",
      "top 50 pairs are ready\n",
      "creating training set for neural network......\n",
      "shape of features array in train set: (952005, 10)\n",
      "shape of target array in train set: (952005,)\n",
      "Prediction begins.......\n",
      "creating testing set for neural network.....\n",
      "(999996, 4)\n",
      "shape of features array in test set: (999996, 10)\n",
      "shape of target array in test set: (999996,)\n"
     ]
    },
    {
     "name": "stderr",
     "output_type": "stream",
     "text": [
      "\n",
      "\n",
      "\n",
      " 33%|███▎      | 1/3 [05:50<11:40, 350.37s/it]\u001b[A\u001b[A\u001b[A"
     ]
    },
    {
     "name": "stdout",
     "output_type": "stream",
     "text": [
      "Training begins.......\n",
      "Begin to retrieve latent features from MF ......\n",
      "Begin to retrieve top 50 pairs with ann......\n",
      "top 50 pairs are ready\n",
      "creating training set for neural network......\n",
      "shape of features array in train set: (952005, 10)\n",
      "shape of target array in train set: (952005,)\n",
      "Prediction begins.......\n",
      "creating testing set for neural network.....\n",
      "(999996, 4)\n",
      "shape of features array in test set: (999996, 10)\n",
      "shape of target array in test set: (999996,)\n"
     ]
    },
    {
     "name": "stderr",
     "output_type": "stream",
     "text": [
      "\n",
      "\n",
      "\n",
      " 67%|██████▋   | 2/3 [11:37<05:49, 349.53s/it]\u001b[A\u001b[A\u001b[A"
     ]
    },
    {
     "name": "stdout",
     "output_type": "stream",
     "text": [
      "Training begins.......\n",
      "Begin to retrieve latent features from MF ......\n",
      "Begin to retrieve top 50 pairs with ann......\n",
      "top 50 pairs are ready\n",
      "creating training set for neural network......\n",
      "shape of features array in train set: (952005, 10)\n",
      "shape of target array in train set: (952005,)\n",
      "Prediction begins.......\n",
      "creating testing set for neural network.....\n",
      "(999996, 4)\n",
      "shape of features array in test set: (999996, 10)\n",
      "shape of target array in test set: (999996,)\n"
     ]
    },
    {
     "name": "stderr",
     "output_type": "stream",
     "text": [
      "\n",
      "\n",
      "\n",
      "100%|██████████| 3/3 [17:22<00:00, 347.59s/it]\u001b[A\u001b[A\u001b[A\n",
      "\n",
      "\n",
      " 25%|██▌       | 1/4 [17:22<52:08, 1042.78s/it]\u001b[A\u001b[A\n",
      "\n",
      "\n",
      "  0%|          | 0/3 [00:00<?, ?it/s]\u001b[A\u001b[A\u001b[A"
     ]
    },
    {
     "name": "stdout",
     "output_type": "stream",
     "text": [
      "Training begins.......\n",
      "Begin to retrieve latent features from MF ......\n",
      "Begin to retrieve top 50 pairs with ann......\n",
      "top 50 pairs are ready\n",
      "creating training set for neural network......\n",
      "shape of features array in train set: (952005, 20)\n",
      "shape of target array in train set: (952005,)\n",
      "Prediction begins.......\n",
      "creating testing set for neural network.....\n",
      "(999992, 4)\n",
      "shape of features array in test set: (999992, 20)\n",
      "shape of target array in test set: (999992,)\n"
     ]
    },
    {
     "name": "stderr",
     "output_type": "stream",
     "text": [
      "\n",
      "\n",
      "\n",
      " 33%|███▎      | 1/3 [05:55<11:51, 355.60s/it]\u001b[A\u001b[A\u001b[A"
     ]
    },
    {
     "name": "stdout",
     "output_type": "stream",
     "text": [
      "Training begins.......\n",
      "Begin to retrieve latent features from MF ......\n",
      "Begin to retrieve top 50 pairs with ann......\n",
      "top 50 pairs are ready\n",
      "creating training set for neural network......\n",
      "shape of features array in train set: (952005, 20)\n",
      "shape of target array in train set: (952005,)\n",
      "Prediction begins.......\n",
      "creating testing set for neural network.....\n",
      "(999992, 4)\n",
      "shape of features array in test set: (999992, 20)\n",
      "shape of target array in test set: (999992,)\n"
     ]
    },
    {
     "name": "stderr",
     "output_type": "stream",
     "text": [
      "\n",
      "\n",
      "\n",
      " 67%|██████▋   | 2/3 [12:01<05:58, 358.56s/it]\u001b[A\u001b[A\u001b[A"
     ]
    },
    {
     "name": "stdout",
     "output_type": "stream",
     "text": [
      "Training begins.......\n",
      "Begin to retrieve latent features from MF ......\n",
      "Begin to retrieve top 50 pairs with ann......\n",
      "top 50 pairs are ready\n",
      "creating training set for neural network......\n",
      "shape of features array in train set: (952005, 20)\n",
      "shape of target array in train set: (952005,)\n",
      "Prediction begins.......\n",
      "creating testing set for neural network.....\n",
      "(999992, 4)\n",
      "shape of features array in test set: (999992, 20)\n",
      "shape of target array in test set: (999992,)\n"
     ]
    },
    {
     "name": "stderr",
     "output_type": "stream",
     "text": [
      "\n",
      "\n",
      "\n",
      "100%|██████████| 3/3 [17:54<00:00, 358.29s/it]\u001b[A\u001b[A\u001b[A\n",
      "\n",
      "\n",
      " 50%|█████     | 2/4 [35:17<35:04, 1052.41s/it]\u001b[A\u001b[A\n",
      "\n",
      "\n",
      "  0%|          | 0/3 [00:00<?, ?it/s]\u001b[A\u001b[A\u001b[A"
     ]
    },
    {
     "name": "stdout",
     "output_type": "stream",
     "text": [
      "Training begins.......\n",
      "Begin to retrieve latent features from MF ......\n",
      "Begin to retrieve top 50 pairs with ann......\n",
      "top 50 pairs are ready\n",
      "creating training set for neural network......\n",
      "shape of features array in train set: (952005, 30)\n",
      "shape of target array in train set: (952005,)\n",
      "Prediction begins.......\n",
      "creating testing set for neural network.....\n",
      "(999993, 4)\n",
      "shape of features array in test set: (999993, 30)\n",
      "shape of target array in test set: (999993,)\n"
     ]
    },
    {
     "name": "stderr",
     "output_type": "stream",
     "text": [
      "\n",
      "\n",
      "\n",
      " 33%|███▎      | 1/3 [06:10<12:20, 370.26s/it]\u001b[A\u001b[A\u001b[A"
     ]
    },
    {
     "name": "stdout",
     "output_type": "stream",
     "text": [
      "Training begins.......\n",
      "Begin to retrieve latent features from MF ......\n",
      "Begin to retrieve top 50 pairs with ann......\n",
      "top 50 pairs are ready\n",
      "creating training set for neural network......\n",
      "shape of features array in train set: (952005, 30)\n",
      "shape of target array in train set: (952005,)\n",
      "Prediction begins.......\n",
      "creating testing set for neural network.....\n",
      "(999993, 4)\n",
      "shape of features array in test set: (999993, 30)\n",
      "shape of target array in test set: (999993,)\n"
     ]
    },
    {
     "name": "stderr",
     "output_type": "stream",
     "text": [
      "\n",
      "\n",
      "\n",
      " 67%|██████▋   | 2/3 [12:19<06:09, 369.96s/it]\u001b[A\u001b[A\u001b[A"
     ]
    },
    {
     "name": "stdout",
     "output_type": "stream",
     "text": [
      "Training begins.......\n",
      "Begin to retrieve latent features from MF ......\n",
      "Begin to retrieve top 50 pairs with ann......\n",
      "top 50 pairs are ready\n",
      "creating training set for neural network......\n",
      "shape of features array in train set: (952005, 30)\n",
      "shape of target array in train set: (952005,)\n",
      "Prediction begins.......\n",
      "creating testing set for neural network.....\n",
      "(999993, 4)\n",
      "shape of features array in test set: (999993, 30)\n",
      "shape of target array in test set: (999993,)\n"
     ]
    },
    {
     "name": "stderr",
     "output_type": "stream",
     "text": [
      "\n",
      "\n",
      "\n",
      "100%|██████████| 3/3 [18:49<00:00, 376.41s/it]\u001b[A\u001b[A\u001b[A\n",
      "\n",
      "\n",
      " 75%|███████▌  | 3/4 [54:06<17:55, 1075.46s/it]\u001b[A\u001b[A\n",
      "\n",
      "\n",
      "  0%|          | 0/3 [00:00<?, ?it/s]\u001b[A\u001b[A\u001b[A"
     ]
    },
    {
     "name": "stdout",
     "output_type": "stream",
     "text": [
      "Training begins.......\n",
      "Begin to retrieve latent features from MF ......\n"
     ]
    },
    {
     "ename": "OSError",
     "evalue": "[Errno 28] No space left on device",
     "output_type": "error",
     "traceback": [
      "\u001b[0;31m---------------------------------------------------------------------------\u001b[0m",
      "\u001b[0;31mOSError\u001b[0m                                   Traceback (most recent call last)",
      "\u001b[0;32m<ipython-input-9-4a4d36182e47>\u001b[0m in \u001b[0;36m<module>\u001b[0;34m\u001b[0m\n\u001b[1;32m     17\u001b[0m                 model_ann_nn = ann_nn(max_iter=max_iter, regparam=0.1, prerank_k=prerank_k, leaf_size=leaf_size, rank=rank, \n\u001b[1;32m     18\u001b[0m                                       batch_size=256, epochs=40, k_items=k_items, verbose = 0, use_element_embed=False)\n\u001b[0;32m---> 19\u001b[0;31m                 \u001b[0mmodel_ann_nn\u001b[0m\u001b[0;34m.\u001b[0m\u001b[0mfit\u001b[0m\u001b[0;34m(\u001b[0m\u001b[0mtrain_df\u001b[0m\u001b[0;34m)\u001b[0m\u001b[0;34m\u001b[0m\u001b[0;34m\u001b[0m\u001b[0m\n\u001b[0m\u001b[1;32m     20\u001b[0m                 \u001b[0mdf_pred\u001b[0m \u001b[0;34m=\u001b[0m  \u001b[0mmodel_ann_nn\u001b[0m\u001b[0;34m.\u001b[0m\u001b[0mpred\u001b[0m\u001b[0;34m(\u001b[0m\u001b[0mtest_df\u001b[0m\u001b[0;34m)\u001b[0m\u001b[0;34m\u001b[0m\u001b[0;34m\u001b[0m\u001b[0m\n\u001b[1;32m     21\u001b[0m                 \u001b[0mrating_pred\u001b[0m \u001b[0;34m=\u001b[0m \u001b[0mpd\u001b[0m\u001b[0;34m.\u001b[0m\u001b[0mDataFrame\u001b[0m\u001b[0;34m(\u001b[0m\u001b[0mindex\u001b[0m \u001b[0;34m=\u001b[0m \u001b[0mrating_test\u001b[0m\u001b[0;34m.\u001b[0m\u001b[0mindex\u001b[0m\u001b[0;34m,\u001b[0m \u001b[0mcolumns\u001b[0m \u001b[0;34m=\u001b[0m \u001b[0;34m[\u001b[0m\u001b[0;34m'dummy'\u001b[0m\u001b[0;34m]\u001b[0m\u001b[0;34m)\u001b[0m\u001b[0;34m.\u001b[0m\u001b[0mjoin\u001b[0m\u001b[0;34m(\u001b[0m\u001b[0mdf_pred\u001b[0m\u001b[0;34m.\u001b[0m\u001b[0mpivot\u001b[0m\u001b[0;34m(\u001b[0m\u001b[0mindex\u001b[0m\u001b[0;34m=\u001b[0m\u001b[0;34m'movieId'\u001b[0m\u001b[0;34m,\u001b[0m \u001b[0mcolumns\u001b[0m\u001b[0;34m=\u001b[0m\u001b[0;34m'userId'\u001b[0m\u001b[0;34m,\u001b[0m \u001b[0mvalues\u001b[0m\u001b[0;34m=\u001b[0m\u001b[0;34m'rating'\u001b[0m\u001b[0;34m)\u001b[0m\u001b[0;34m,\u001b[0m \u001b[0mhow\u001b[0m \u001b[0;34m=\u001b[0m \u001b[0;34m'left'\u001b[0m\u001b[0;34m)\u001b[0m\u001b[0;34m.\u001b[0m\u001b[0mdrop\u001b[0m\u001b[0;34m(\u001b[0m\u001b[0;34m'dummy'\u001b[0m\u001b[0;34m,\u001b[0m \u001b[0maxis\u001b[0m \u001b[0;34m=\u001b[0m \u001b[0;36m1\u001b[0m\u001b[0;34m)\u001b[0m\u001b[0;34m\u001b[0m\u001b[0;34m\u001b[0m\u001b[0m\n",
      "\u001b[0;32m~/Desktop/final project/ann_nn.py\u001b[0m in \u001b[0;36mfit\u001b[0;34m(self, train_df, df_tag)\u001b[0m\n\u001b[1;32m    131\u001b[0m         \u001b[0;32mif\u001b[0m \u001b[0mdf_tag\u001b[0m \u001b[0;32mis\u001b[0m \u001b[0;32mnot\u001b[0m \u001b[0;32mNone\u001b[0m\u001b[0;34m:\u001b[0m\u001b[0;34m\u001b[0m\u001b[0;34m\u001b[0m\u001b[0m\n\u001b[1;32m    132\u001b[0m             \u001b[0mself\u001b[0m\u001b[0;34m.\u001b[0m\u001b[0mtag_dict\u001b[0m \u001b[0;34m=\u001b[0m \u001b[0mdf_tag\u001b[0m\u001b[0;34m.\u001b[0m\u001b[0mgroupby\u001b[0m\u001b[0;34m(\u001b[0m\u001b[0;34m'movieId'\u001b[0m\u001b[0;34m)\u001b[0m\u001b[0;34m[\u001b[0m\u001b[0;34m'relevance'\u001b[0m\u001b[0;34m]\u001b[0m\u001b[0;34m.\u001b[0m\u001b[0mapply\u001b[0m\u001b[0;34m(\u001b[0m\u001b[0;32mlambda\u001b[0m \u001b[0mx\u001b[0m\u001b[0;34m:\u001b[0m \u001b[0mlist\u001b[0m\u001b[0;34m(\u001b[0m\u001b[0mx\u001b[0m\u001b[0;34m)\u001b[0m\u001b[0;34m)\u001b[0m\u001b[0;34m.\u001b[0m\u001b[0mto_dict\u001b[0m\u001b[0;34m(\u001b[0m\u001b[0;34m)\u001b[0m\u001b[0;34m\u001b[0m\u001b[0;34m\u001b[0m\u001b[0m\n\u001b[0;32m--> 133\u001b[0;31m         \u001b[0mself\u001b[0m\u001b[0;34m.\u001b[0m\u001b[0mcreate_train_nn\u001b[0m\u001b[0;34m(\u001b[0m\u001b[0mtrain_df\u001b[0m\u001b[0;34m)\u001b[0m\u001b[0;34m\u001b[0m\u001b[0;34m\u001b[0m\u001b[0m\n\u001b[0m\u001b[1;32m    134\u001b[0m         \u001b[0mself\u001b[0m\u001b[0;34m.\u001b[0m\u001b[0mtrain_nn\u001b[0m\u001b[0;34m(\u001b[0m\u001b[0;34m)\u001b[0m\u001b[0;34m\u001b[0m\u001b[0;34m\u001b[0m\u001b[0m\n\u001b[1;32m    135\u001b[0m \u001b[0;34m\u001b[0m\u001b[0m\n",
      "\u001b[0;32m~/Desktop/final project/ann_nn.py\u001b[0m in \u001b[0;36mcreate_train_nn\u001b[0;34m(self, df)\u001b[0m\n\u001b[1;32m     70\u001b[0m         \u001b[0mself\u001b[0m\u001b[0;34m.\u001b[0m\u001b[0mrating_train\u001b[0m \u001b[0;34m=\u001b[0m \u001b[0mself\u001b[0m\u001b[0;34m.\u001b[0m\u001b[0mtrain_set\u001b[0m\u001b[0;34m.\u001b[0m\u001b[0mpivot\u001b[0m\u001b[0;34m(\u001b[0m\u001b[0mindex\u001b[0m\u001b[0;34m=\u001b[0m\u001b[0;34m'movieId'\u001b[0m\u001b[0;34m,\u001b[0m \u001b[0mcolumns\u001b[0m\u001b[0;34m=\u001b[0m\u001b[0;34m'userId'\u001b[0m\u001b[0;34m,\u001b[0m \u001b[0mvalues\u001b[0m\u001b[0;34m=\u001b[0m\u001b[0;34m'rating'\u001b[0m\u001b[0;34m)\u001b[0m\u001b[0;34m\u001b[0m\u001b[0;34m\u001b[0m\u001b[0m\n\u001b[1;32m     71\u001b[0m         \u001b[0;32mif\u001b[0m \u001b[0;32mnot\u001b[0m \u001b[0mself\u001b[0m\u001b[0;34m.\u001b[0m\u001b[0mtop_k_pairs\u001b[0m\u001b[0;34m:\u001b[0m\u001b[0;34m\u001b[0m\u001b[0;34m\u001b[0m\u001b[0m\n\u001b[0;32m---> 72\u001b[0;31m             \u001b[0mself\u001b[0m\u001b[0;34m.\u001b[0m\u001b[0mann\u001b[0m\u001b[0;34m(\u001b[0m\u001b[0;34m)\u001b[0m\u001b[0;34m\u001b[0m\u001b[0;34m\u001b[0m\u001b[0m\n\u001b[0m\u001b[1;32m     73\u001b[0m         \u001b[0mprint\u001b[0m\u001b[0;34m(\u001b[0m\u001b[0;34m'creating training set for neural network......'\u001b[0m\u001b[0;34m)\u001b[0m\u001b[0;34m\u001b[0m\u001b[0;34m\u001b[0m\u001b[0m\n\u001b[1;32m     74\u001b[0m         \u001b[0;32mif\u001b[0m \u001b[0mself\u001b[0m\u001b[0;34m.\u001b[0m\u001b[0muse_element_embed\u001b[0m\u001b[0;34m:\u001b[0m\u001b[0;34m\u001b[0m\u001b[0;34m\u001b[0m\u001b[0m\n",
      "\u001b[0;32m~/Desktop/final project/ann_nn.py\u001b[0m in \u001b[0;36mann\u001b[0;34m(self)\u001b[0m\n\u001b[1;32m    183\u001b[0m         \u001b[0mself\u001b[0m\u001b[0;34m.\u001b[0m\u001b[0mreco_matrix\u001b[0m \u001b[0;34m=\u001b[0m \u001b[0mnp\u001b[0m\u001b[0;34m.\u001b[0m\u001b[0mzeros\u001b[0m\u001b[0;34m(\u001b[0m\u001b[0;34m(\u001b[0m\u001b[0mself\u001b[0m\u001b[0;34m.\u001b[0m\u001b[0mn_movies\u001b[0m\u001b[0;34m,\u001b[0m \u001b[0mself\u001b[0m\u001b[0;34m.\u001b[0m\u001b[0mn_users\u001b[0m\u001b[0;34m)\u001b[0m\u001b[0;34m)\u001b[0m\u001b[0;34m\u001b[0m\u001b[0;34m\u001b[0m\u001b[0m\n\u001b[1;32m    184\u001b[0m         \u001b[0;32mif\u001b[0m \u001b[0;32mnot\u001b[0m \u001b[0mself\u001b[0m\u001b[0;34m.\u001b[0m\u001b[0mmovie_matrix\u001b[0m\u001b[0;34m:\u001b[0m\u001b[0;34m\u001b[0m\u001b[0;34m\u001b[0m\u001b[0m\n\u001b[0;32m--> 185\u001b[0;31m             \u001b[0mself\u001b[0m\u001b[0;34m.\u001b[0m\u001b[0mcf\u001b[0m\u001b[0;34m(\u001b[0m\u001b[0;34m)\u001b[0m\u001b[0;34m\u001b[0m\u001b[0;34m\u001b[0m\u001b[0m\n\u001b[0m\u001b[1;32m    186\u001b[0m         \u001b[0mprint\u001b[0m\u001b[0;34m(\u001b[0m\u001b[0;34mf\"Begin to retrieve top {self.prerank_k} pairs with ann......\"\u001b[0m\u001b[0;34m)\u001b[0m\u001b[0;34m\u001b[0m\u001b[0;34m\u001b[0m\u001b[0m\n\u001b[1;32m    187\u001b[0m         \u001b[0mself\u001b[0m\u001b[0;34m.\u001b[0m\u001b[0mtop_k_pairs\u001b[0m \u001b[0;34m=\u001b[0m \u001b[0;34m[\u001b[0m\u001b[0;34m]\u001b[0m\u001b[0;34m\u001b[0m\u001b[0;34m\u001b[0m\u001b[0m\n",
      "\u001b[0;32m~/Desktop/final project/ann_nn.py\u001b[0m in \u001b[0;36mcf\u001b[0;34m(self)\u001b[0m\n\u001b[1;32m    163\u001b[0m                   coldStartStrategy=\"drop\")\n\u001b[1;32m    164\u001b[0m         \u001b[0;31m#print(self.train_set.shape)\u001b[0m\u001b[0;34m\u001b[0m\u001b[0;34m\u001b[0m\u001b[0;34m\u001b[0m\u001b[0m\n\u001b[0;32m--> 165\u001b[0;31m         \u001b[0mtrain\u001b[0m \u001b[0;34m=\u001b[0m \u001b[0mspark\u001b[0m\u001b[0;34m.\u001b[0m\u001b[0mcreateDataFrame\u001b[0m\u001b[0;34m(\u001b[0m\u001b[0mself\u001b[0m\u001b[0;34m.\u001b[0m\u001b[0mtrain_set\u001b[0m\u001b[0;34m)\u001b[0m\u001b[0;34m\u001b[0m\u001b[0;34m\u001b[0m\u001b[0m\n\u001b[0m\u001b[1;32m    166\u001b[0m         \u001b[0mmodel\u001b[0m \u001b[0;34m=\u001b[0m \u001b[0mals\u001b[0m\u001b[0;34m.\u001b[0m\u001b[0mfit\u001b[0m\u001b[0;34m(\u001b[0m\u001b[0mtrain\u001b[0m\u001b[0;34m)\u001b[0m\u001b[0;34m\u001b[0m\u001b[0;34m\u001b[0m\u001b[0m\n\u001b[1;32m    167\u001b[0m         \u001b[0;31m# retrieve latent features from cf\u001b[0m\u001b[0;34m\u001b[0m\u001b[0;34m\u001b[0m\u001b[0;34m\u001b[0m\u001b[0m\n",
      "\u001b[0;32m/opt/anaconda3/lib/python3.7/site-packages/pyspark/sql/session.py\u001b[0m in \u001b[0;36mcreateDataFrame\u001b[0;34m(self, data, schema, samplingRatio, verifySchema)\u001b[0m\n\u001b[1;32m    602\u001b[0m             \u001b[0;31m# Create a DataFrame from pandas DataFrame.\u001b[0m\u001b[0;34m\u001b[0m\u001b[0;34m\u001b[0m\u001b[0;34m\u001b[0m\u001b[0m\n\u001b[1;32m    603\u001b[0m             return super(SparkSession, self).createDataFrame(\n\u001b[0;32m--> 604\u001b[0;31m                 data, schema, samplingRatio, verifySchema)\n\u001b[0m\u001b[1;32m    605\u001b[0m         \u001b[0;32mreturn\u001b[0m \u001b[0mself\u001b[0m\u001b[0;34m.\u001b[0m\u001b[0m_create_dataframe\u001b[0m\u001b[0;34m(\u001b[0m\u001b[0mdata\u001b[0m\u001b[0;34m,\u001b[0m \u001b[0mschema\u001b[0m\u001b[0;34m,\u001b[0m \u001b[0msamplingRatio\u001b[0m\u001b[0;34m,\u001b[0m \u001b[0mverifySchema\u001b[0m\u001b[0;34m)\u001b[0m\u001b[0;34m\u001b[0m\u001b[0;34m\u001b[0m\u001b[0m\n\u001b[1;32m    606\u001b[0m \u001b[0;34m\u001b[0m\u001b[0m\n",
      "\u001b[0;32m/opt/anaconda3/lib/python3.7/site-packages/pyspark/sql/pandas/conversion.py\u001b[0m in \u001b[0;36mcreateDataFrame\u001b[0;34m(self, data, schema, samplingRatio, verifySchema)\u001b[0m\n\u001b[1;32m    298\u001b[0m                     \u001b[0;32mraise\u001b[0m\u001b[0;34m\u001b[0m\u001b[0;34m\u001b[0m\u001b[0m\n\u001b[1;32m    299\u001b[0m         \u001b[0mdata\u001b[0m \u001b[0;34m=\u001b[0m \u001b[0mself\u001b[0m\u001b[0;34m.\u001b[0m\u001b[0m_convert_from_pandas\u001b[0m\u001b[0;34m(\u001b[0m\u001b[0mdata\u001b[0m\u001b[0;34m,\u001b[0m \u001b[0mschema\u001b[0m\u001b[0;34m,\u001b[0m \u001b[0mtimezone\u001b[0m\u001b[0;34m)\u001b[0m\u001b[0;34m\u001b[0m\u001b[0;34m\u001b[0m\u001b[0m\n\u001b[0;32m--> 300\u001b[0;31m         \u001b[0;32mreturn\u001b[0m \u001b[0mself\u001b[0m\u001b[0;34m.\u001b[0m\u001b[0m_create_dataframe\u001b[0m\u001b[0;34m(\u001b[0m\u001b[0mdata\u001b[0m\u001b[0;34m,\u001b[0m \u001b[0mschema\u001b[0m\u001b[0;34m,\u001b[0m \u001b[0msamplingRatio\u001b[0m\u001b[0;34m,\u001b[0m \u001b[0mverifySchema\u001b[0m\u001b[0;34m)\u001b[0m\u001b[0;34m\u001b[0m\u001b[0;34m\u001b[0m\u001b[0m\n\u001b[0m\u001b[1;32m    301\u001b[0m \u001b[0;34m\u001b[0m\u001b[0m\n\u001b[1;32m    302\u001b[0m     \u001b[0;32mdef\u001b[0m \u001b[0m_convert_from_pandas\u001b[0m\u001b[0;34m(\u001b[0m\u001b[0mself\u001b[0m\u001b[0;34m,\u001b[0m \u001b[0mpdf\u001b[0m\u001b[0;34m,\u001b[0m \u001b[0mschema\u001b[0m\u001b[0;34m,\u001b[0m \u001b[0mtimezone\u001b[0m\u001b[0;34m)\u001b[0m\u001b[0;34m:\u001b[0m\u001b[0;34m\u001b[0m\u001b[0;34m\u001b[0m\u001b[0m\n",
      "\u001b[0;32m/opt/anaconda3/lib/python3.7/site-packages/pyspark/sql/session.py\u001b[0m in \u001b[0;36m_create_dataframe\u001b[0;34m(self, data, schema, samplingRatio, verifySchema)\u001b[0m\n\u001b[1;32m    628\u001b[0m             \u001b[0mrdd\u001b[0m\u001b[0;34m,\u001b[0m \u001b[0mschema\u001b[0m \u001b[0;34m=\u001b[0m \u001b[0mself\u001b[0m\u001b[0;34m.\u001b[0m\u001b[0m_createFromRDD\u001b[0m\u001b[0;34m(\u001b[0m\u001b[0mdata\u001b[0m\u001b[0;34m.\u001b[0m\u001b[0mmap\u001b[0m\u001b[0;34m(\u001b[0m\u001b[0mprepare\u001b[0m\u001b[0;34m)\u001b[0m\u001b[0;34m,\u001b[0m \u001b[0mschema\u001b[0m\u001b[0;34m,\u001b[0m \u001b[0msamplingRatio\u001b[0m\u001b[0;34m)\u001b[0m\u001b[0;34m\u001b[0m\u001b[0;34m\u001b[0m\u001b[0m\n\u001b[1;32m    629\u001b[0m         \u001b[0;32melse\u001b[0m\u001b[0;34m:\u001b[0m\u001b[0;34m\u001b[0m\u001b[0;34m\u001b[0m\u001b[0m\n\u001b[0;32m--> 630\u001b[0;31m             \u001b[0mrdd\u001b[0m\u001b[0;34m,\u001b[0m \u001b[0mschema\u001b[0m \u001b[0;34m=\u001b[0m \u001b[0mself\u001b[0m\u001b[0;34m.\u001b[0m\u001b[0m_createFromLocal\u001b[0m\u001b[0;34m(\u001b[0m\u001b[0mmap\u001b[0m\u001b[0;34m(\u001b[0m\u001b[0mprepare\u001b[0m\u001b[0;34m,\u001b[0m \u001b[0mdata\u001b[0m\u001b[0;34m)\u001b[0m\u001b[0;34m,\u001b[0m \u001b[0mschema\u001b[0m\u001b[0;34m)\u001b[0m\u001b[0;34m\u001b[0m\u001b[0;34m\u001b[0m\u001b[0m\n\u001b[0m\u001b[1;32m    631\u001b[0m         \u001b[0mjrdd\u001b[0m \u001b[0;34m=\u001b[0m \u001b[0mself\u001b[0m\u001b[0;34m.\u001b[0m\u001b[0m_jvm\u001b[0m\u001b[0;34m.\u001b[0m\u001b[0mSerDeUtil\u001b[0m\u001b[0;34m.\u001b[0m\u001b[0mtoJavaArray\u001b[0m\u001b[0;34m(\u001b[0m\u001b[0mrdd\u001b[0m\u001b[0;34m.\u001b[0m\u001b[0m_to_java_object_rdd\u001b[0m\u001b[0;34m(\u001b[0m\u001b[0;34m)\u001b[0m\u001b[0;34m)\u001b[0m\u001b[0;34m\u001b[0m\u001b[0;34m\u001b[0m\u001b[0m\n\u001b[1;32m    632\u001b[0m         \u001b[0mjdf\u001b[0m \u001b[0;34m=\u001b[0m \u001b[0mself\u001b[0m\u001b[0;34m.\u001b[0m\u001b[0m_jsparkSession\u001b[0m\u001b[0;34m.\u001b[0m\u001b[0mapplySchemaToPythonRDD\u001b[0m\u001b[0;34m(\u001b[0m\u001b[0mjrdd\u001b[0m\u001b[0;34m.\u001b[0m\u001b[0mrdd\u001b[0m\u001b[0;34m(\u001b[0m\u001b[0;34m)\u001b[0m\u001b[0;34m,\u001b[0m \u001b[0mschema\u001b[0m\u001b[0;34m.\u001b[0m\u001b[0mjson\u001b[0m\u001b[0;34m(\u001b[0m\u001b[0;34m)\u001b[0m\u001b[0;34m)\u001b[0m\u001b[0;34m\u001b[0m\u001b[0;34m\u001b[0m\u001b[0m\n",
      "\u001b[0;32m/opt/anaconda3/lib/python3.7/site-packages/pyspark/sql/session.py\u001b[0m in \u001b[0;36m_createFromLocal\u001b[0;34m(self, data, schema)\u001b[0m\n\u001b[1;32m    463\u001b[0m         \u001b[0;31m# convert python objects to sql data\u001b[0m\u001b[0;34m\u001b[0m\u001b[0;34m\u001b[0m\u001b[0;34m\u001b[0m\u001b[0m\n\u001b[1;32m    464\u001b[0m         \u001b[0mdata\u001b[0m \u001b[0;34m=\u001b[0m \u001b[0;34m[\u001b[0m\u001b[0mschema\u001b[0m\u001b[0;34m.\u001b[0m\u001b[0mtoInternal\u001b[0m\u001b[0;34m(\u001b[0m\u001b[0mrow\u001b[0m\u001b[0;34m)\u001b[0m \u001b[0;32mfor\u001b[0m \u001b[0mrow\u001b[0m \u001b[0;32min\u001b[0m \u001b[0mdata\u001b[0m\u001b[0;34m]\u001b[0m\u001b[0;34m\u001b[0m\u001b[0;34m\u001b[0m\u001b[0m\n\u001b[0;32m--> 465\u001b[0;31m         \u001b[0;32mreturn\u001b[0m \u001b[0mself\u001b[0m\u001b[0;34m.\u001b[0m\u001b[0m_sc\u001b[0m\u001b[0;34m.\u001b[0m\u001b[0mparallelize\u001b[0m\u001b[0;34m(\u001b[0m\u001b[0mdata\u001b[0m\u001b[0;34m)\u001b[0m\u001b[0;34m,\u001b[0m \u001b[0mschema\u001b[0m\u001b[0;34m\u001b[0m\u001b[0;34m\u001b[0m\u001b[0m\n\u001b[0m\u001b[1;32m    466\u001b[0m \u001b[0;34m\u001b[0m\u001b[0m\n\u001b[1;32m    467\u001b[0m     \u001b[0;34m@\u001b[0m\u001b[0mstaticmethod\u001b[0m\u001b[0;34m\u001b[0m\u001b[0;34m\u001b[0m\u001b[0m\n",
      "\u001b[0;32m/opt/anaconda3/lib/python3.7/site-packages/pyspark/context.py\u001b[0m in \u001b[0;36mparallelize\u001b[0;34m(self, c, numSlices)\u001b[0m\n\u001b[1;32m    541\u001b[0m             \u001b[0;32mreturn\u001b[0m \u001b[0mself\u001b[0m\u001b[0;34m.\u001b[0m\u001b[0m_jvm\u001b[0m\u001b[0;34m.\u001b[0m\u001b[0mPythonParallelizeServer\u001b[0m\u001b[0;34m(\u001b[0m\u001b[0mself\u001b[0m\u001b[0;34m.\u001b[0m\u001b[0m_jsc\u001b[0m\u001b[0;34m.\u001b[0m\u001b[0msc\u001b[0m\u001b[0;34m(\u001b[0m\u001b[0;34m)\u001b[0m\u001b[0;34m,\u001b[0m \u001b[0mnumSlices\u001b[0m\u001b[0;34m)\u001b[0m\u001b[0;34m\u001b[0m\u001b[0;34m\u001b[0m\u001b[0m\n\u001b[1;32m    542\u001b[0m \u001b[0;34m\u001b[0m\u001b[0m\n\u001b[0;32m--> 543\u001b[0;31m         \u001b[0mjrdd\u001b[0m \u001b[0;34m=\u001b[0m \u001b[0mself\u001b[0m\u001b[0;34m.\u001b[0m\u001b[0m_serialize_to_jvm\u001b[0m\u001b[0;34m(\u001b[0m\u001b[0mc\u001b[0m\u001b[0;34m,\u001b[0m \u001b[0mserializer\u001b[0m\u001b[0;34m,\u001b[0m \u001b[0mreader_func\u001b[0m\u001b[0;34m,\u001b[0m \u001b[0mcreateRDDServer\u001b[0m\u001b[0;34m)\u001b[0m\u001b[0;34m\u001b[0m\u001b[0;34m\u001b[0m\u001b[0m\n\u001b[0m\u001b[1;32m    544\u001b[0m         \u001b[0;32mreturn\u001b[0m \u001b[0mRDD\u001b[0m\u001b[0;34m(\u001b[0m\u001b[0mjrdd\u001b[0m\u001b[0;34m,\u001b[0m \u001b[0mself\u001b[0m\u001b[0;34m,\u001b[0m \u001b[0mserializer\u001b[0m\u001b[0;34m)\u001b[0m\u001b[0;34m\u001b[0m\u001b[0;34m\u001b[0m\u001b[0m\n\u001b[1;32m    545\u001b[0m \u001b[0;34m\u001b[0m\u001b[0m\n",
      "\u001b[0;32m/opt/anaconda3/lib/python3.7/site-packages/pyspark/context.py\u001b[0m in \u001b[0;36m_serialize_to_jvm\u001b[0;34m(self, data, serializer, reader_func, createRDDServer)\u001b[0m\n\u001b[1;32m    573\u001b[0m             \u001b[0;32mtry\u001b[0m\u001b[0;34m:\u001b[0m\u001b[0;34m\u001b[0m\u001b[0;34m\u001b[0m\u001b[0m\n\u001b[1;32m    574\u001b[0m                 \u001b[0;32mtry\u001b[0m\u001b[0;34m:\u001b[0m\u001b[0;34m\u001b[0m\u001b[0;34m\u001b[0m\u001b[0m\n\u001b[0;32m--> 575\u001b[0;31m                     \u001b[0mserializer\u001b[0m\u001b[0;34m.\u001b[0m\u001b[0mdump_stream\u001b[0m\u001b[0;34m(\u001b[0m\u001b[0mdata\u001b[0m\u001b[0;34m,\u001b[0m \u001b[0mtempFile\u001b[0m\u001b[0;34m)\u001b[0m\u001b[0;34m\u001b[0m\u001b[0;34m\u001b[0m\u001b[0m\n\u001b[0m\u001b[1;32m    576\u001b[0m                 \u001b[0;32mfinally\u001b[0m\u001b[0;34m:\u001b[0m\u001b[0;34m\u001b[0m\u001b[0;34m\u001b[0m\u001b[0m\n\u001b[1;32m    577\u001b[0m                     \u001b[0mtempFile\u001b[0m\u001b[0;34m.\u001b[0m\u001b[0mclose\u001b[0m\u001b[0;34m(\u001b[0m\u001b[0;34m)\u001b[0m\u001b[0;34m\u001b[0m\u001b[0;34m\u001b[0m\u001b[0m\n",
      "\u001b[0;32m/opt/anaconda3/lib/python3.7/site-packages/pyspark/serializers.py\u001b[0m in \u001b[0;36mdump_stream\u001b[0;34m(self, iterator, stream)\u001b[0m\n\u001b[1;32m    221\u001b[0m \u001b[0;34m\u001b[0m\u001b[0m\n\u001b[1;32m    222\u001b[0m     \u001b[0;32mdef\u001b[0m \u001b[0mdump_stream\u001b[0m\u001b[0;34m(\u001b[0m\u001b[0mself\u001b[0m\u001b[0;34m,\u001b[0m \u001b[0miterator\u001b[0m\u001b[0;34m,\u001b[0m \u001b[0mstream\u001b[0m\u001b[0;34m)\u001b[0m\u001b[0;34m:\u001b[0m\u001b[0;34m\u001b[0m\u001b[0;34m\u001b[0m\u001b[0m\n\u001b[0;32m--> 223\u001b[0;31m         \u001b[0mself\u001b[0m\u001b[0;34m.\u001b[0m\u001b[0mserializer\u001b[0m\u001b[0;34m.\u001b[0m\u001b[0mdump_stream\u001b[0m\u001b[0;34m(\u001b[0m\u001b[0mself\u001b[0m\u001b[0;34m.\u001b[0m\u001b[0m_batched\u001b[0m\u001b[0;34m(\u001b[0m\u001b[0miterator\u001b[0m\u001b[0;34m)\u001b[0m\u001b[0;34m,\u001b[0m \u001b[0mstream\u001b[0m\u001b[0;34m)\u001b[0m\u001b[0;34m\u001b[0m\u001b[0;34m\u001b[0m\u001b[0m\n\u001b[0m\u001b[1;32m    224\u001b[0m \u001b[0;34m\u001b[0m\u001b[0m\n\u001b[1;32m    225\u001b[0m     \u001b[0;32mdef\u001b[0m \u001b[0mload_stream\u001b[0m\u001b[0;34m(\u001b[0m\u001b[0mself\u001b[0m\u001b[0;34m,\u001b[0m \u001b[0mstream\u001b[0m\u001b[0;34m)\u001b[0m\u001b[0;34m:\u001b[0m\u001b[0;34m\u001b[0m\u001b[0;34m\u001b[0m\u001b[0m\n",
      "\u001b[0;32m/opt/anaconda3/lib/python3.7/site-packages/pyspark/serializers.py\u001b[0m in \u001b[0;36mdump_stream\u001b[0;34m(self, iterator, stream)\u001b[0m\n\u001b[1;32m    140\u001b[0m     \u001b[0;32mdef\u001b[0m \u001b[0mdump_stream\u001b[0m\u001b[0;34m(\u001b[0m\u001b[0mself\u001b[0m\u001b[0;34m,\u001b[0m \u001b[0miterator\u001b[0m\u001b[0;34m,\u001b[0m \u001b[0mstream\u001b[0m\u001b[0;34m)\u001b[0m\u001b[0;34m:\u001b[0m\u001b[0;34m\u001b[0m\u001b[0;34m\u001b[0m\u001b[0m\n\u001b[1;32m    141\u001b[0m         \u001b[0;32mfor\u001b[0m \u001b[0mobj\u001b[0m \u001b[0;32min\u001b[0m \u001b[0miterator\u001b[0m\u001b[0;34m:\u001b[0m\u001b[0;34m\u001b[0m\u001b[0;34m\u001b[0m\u001b[0m\n\u001b[0;32m--> 142\u001b[0;31m             \u001b[0mself\u001b[0m\u001b[0;34m.\u001b[0m\u001b[0m_write_with_length\u001b[0m\u001b[0;34m(\u001b[0m\u001b[0mobj\u001b[0m\u001b[0;34m,\u001b[0m \u001b[0mstream\u001b[0m\u001b[0;34m)\u001b[0m\u001b[0;34m\u001b[0m\u001b[0;34m\u001b[0m\u001b[0m\n\u001b[0m\u001b[1;32m    143\u001b[0m \u001b[0;34m\u001b[0m\u001b[0m\n\u001b[1;32m    144\u001b[0m     \u001b[0;32mdef\u001b[0m \u001b[0mload_stream\u001b[0m\u001b[0;34m(\u001b[0m\u001b[0mself\u001b[0m\u001b[0;34m,\u001b[0m \u001b[0mstream\u001b[0m\u001b[0;34m)\u001b[0m\u001b[0;34m:\u001b[0m\u001b[0;34m\u001b[0m\u001b[0;34m\u001b[0m\u001b[0m\n",
      "\u001b[0;32m/opt/anaconda3/lib/python3.7/site-packages/pyspark/serializers.py\u001b[0m in \u001b[0;36m_write_with_length\u001b[0;34m(self, obj, stream)\u001b[0m\n\u001b[1;32m    159\u001b[0m             \u001b[0mstream\u001b[0m\u001b[0;34m.\u001b[0m\u001b[0mwrite\u001b[0m\u001b[0;34m(\u001b[0m\u001b[0mstr\u001b[0m\u001b[0;34m(\u001b[0m\u001b[0mserialized\u001b[0m\u001b[0;34m)\u001b[0m\u001b[0;34m)\u001b[0m\u001b[0;34m\u001b[0m\u001b[0;34m\u001b[0m\u001b[0m\n\u001b[1;32m    160\u001b[0m         \u001b[0;32melse\u001b[0m\u001b[0;34m:\u001b[0m\u001b[0;34m\u001b[0m\u001b[0;34m\u001b[0m\u001b[0m\n\u001b[0;32m--> 161\u001b[0;31m             \u001b[0mstream\u001b[0m\u001b[0;34m.\u001b[0m\u001b[0mwrite\u001b[0m\u001b[0;34m(\u001b[0m\u001b[0mserialized\u001b[0m\u001b[0;34m)\u001b[0m\u001b[0;34m\u001b[0m\u001b[0;34m\u001b[0m\u001b[0m\n\u001b[0m\u001b[1;32m    162\u001b[0m \u001b[0;34m\u001b[0m\u001b[0m\n\u001b[1;32m    163\u001b[0m     \u001b[0;32mdef\u001b[0m \u001b[0m_read_with_length\u001b[0m\u001b[0;34m(\u001b[0m\u001b[0mself\u001b[0m\u001b[0;34m,\u001b[0m \u001b[0mstream\u001b[0m\u001b[0;34m)\u001b[0m\u001b[0;34m:\u001b[0m\u001b[0;34m\u001b[0m\u001b[0;34m\u001b[0m\u001b[0m\n",
      "\u001b[0;32m/opt/anaconda3/lib/python3.7/tempfile.py\u001b[0m in \u001b[0;36mfunc_wrapper\u001b[0;34m(*args, **kwargs)\u001b[0m\n\u001b[1;32m    479\u001b[0m             \u001b[0;34m@\u001b[0m\u001b[0m_functools\u001b[0m\u001b[0;34m.\u001b[0m\u001b[0mwraps\u001b[0m\u001b[0;34m(\u001b[0m\u001b[0mfunc\u001b[0m\u001b[0;34m)\u001b[0m\u001b[0;34m\u001b[0m\u001b[0;34m\u001b[0m\u001b[0m\n\u001b[1;32m    480\u001b[0m             \u001b[0;32mdef\u001b[0m \u001b[0mfunc_wrapper\u001b[0m\u001b[0;34m(\u001b[0m\u001b[0;34m*\u001b[0m\u001b[0margs\u001b[0m\u001b[0;34m,\u001b[0m \u001b[0;34m**\u001b[0m\u001b[0mkwargs\u001b[0m\u001b[0;34m)\u001b[0m\u001b[0;34m:\u001b[0m\u001b[0;34m\u001b[0m\u001b[0;34m\u001b[0m\u001b[0m\n\u001b[0;32m--> 481\u001b[0;31m                 \u001b[0;32mreturn\u001b[0m \u001b[0mfunc\u001b[0m\u001b[0;34m(\u001b[0m\u001b[0;34m*\u001b[0m\u001b[0margs\u001b[0m\u001b[0;34m,\u001b[0m \u001b[0;34m**\u001b[0m\u001b[0mkwargs\u001b[0m\u001b[0;34m)\u001b[0m\u001b[0;34m\u001b[0m\u001b[0;34m\u001b[0m\u001b[0m\n\u001b[0m\u001b[1;32m    482\u001b[0m             \u001b[0;31m# Avoid closing the file as long as the wrapper is alive,\u001b[0m\u001b[0;34m\u001b[0m\u001b[0;34m\u001b[0m\u001b[0;34m\u001b[0m\u001b[0m\n\u001b[1;32m    483\u001b[0m             \u001b[0;31m# see issue #18879.\u001b[0m\u001b[0;34m\u001b[0m\u001b[0;34m\u001b[0m\u001b[0;34m\u001b[0m\u001b[0m\n",
      "\u001b[0;31mOSError\u001b[0m: [Errno 28] No space left on device"
     ]
    }
   ],
   "source": [
    "#cross validate\n",
    "from tqdm import tqdm\n",
    "k_items = 10\n",
    "\n",
    "max_iter_list = [2, 5, 10, 15]\n",
    "prerank_k_list = [20, 30, 50]\n",
    "rank_list = [5, 10, 15, 20]\n",
    "leaf_size_list = [15, 30, 50]\n",
    "\n",
    "\n",
    "result = []\n",
    "for max_iter in tqdm(max_iter_list):\n",
    "    for prerank_k in tqdm(prerank_k_list):\n",
    "        for rank in tqdm(rank_list):\n",
    "            for leaf_size in tqdm(leaf_size_list):\n",
    "                temp = dict()\n",
    "                model_ann_nn = ann_nn(max_iter=max_iter, regparam=0.1, prerank_k=prerank_k, leaf_size=leaf_size, rank=rank, \n",
    "                                      batch_size=256, epochs=40, k_items=k_items, verbose = 0, use_element_embed=False)\n",
    "                model_ann_nn.fit(train_df)\n",
    "                df_pred =  model_ann_nn.pred(test_df)\n",
    "                rating_pred = pd.DataFrame(index = rating_test.index, columns = ['dummy']).join(df_pred.pivot(index='movieId', columns='userId', values='rating'), how = 'left').drop('dummy', axis = 1)\n",
    "                user_recalls, avg_recall = recall_over_user(rating_test, rating_pred, k_items=k_items, plot=False)\n",
    "                temp['max_iter'] = max_iter\n",
    "                temp['prerank_k'] = prerank_k\n",
    "                temp['rank'] = rank\n",
    "                temp['leaf_size'] = leaf_size\n",
    "                temp['recall'] = avg_recall\n",
    "                temp['history'] = model_ann_nn.history\n",
    "                result.append(temp)\n"
   ]
  },
  {
   "cell_type": "code",
   "execution_count": 15,
   "metadata": {},
   "outputs": [
    {
     "data": {
      "text/plain": [
       "{'max_iter': 2,\n",
       " 'prerank_k': 20,\n",
       " 'rank': 20,\n",
       " 'leaf_size': 30,\n",
       " 'recall': 0.07970414682539682,\n",
       " 'history': <keras.callbacks.callbacks.History at 0x7f90dc598390>}"
      ]
     },
     "execution_count": 15,
     "metadata": {},
     "output_type": "execute_result"
    }
   ],
   "source": [
    "# best params\n",
    "best = sorted(result, key = lambda dic: dic['recall'])[-1]\n",
    "best"
   ]
  },
  {
   "cell_type": "code",
   "execution_count": 18,
   "metadata": {},
   "outputs": [
    {
     "data": {
      "image/png": "[encoded data removed]",
      "text/plain": [
       "<Figure size 720x720 with 1 Axes>"
      ]
     },
     "metadata": {
      "needs_background": "light"
     },
     "output_type": "display_data"
    }
   ],
   "source": [
    "plot_history(best['history'])"
   ]
  }
 ],
 "metadata": {
  "kernelspec": {
   "display_name": "Python 3",
   "language": "python",
   "name": "python3"
  },
  "language_info": {
   "codemirror_mode": {
    "name": "ipython",
    "version": 3
   },
   "file_extension": ".py",
   "mimetype": "text/x-python",
   "name": "python",
   "nbconvert_exporter": "python",
   "pygments_lexer": "ipython3",
   "version": "3.7.6"
  },
  "toc": {
   "base_numbering": 1,
   "nav_menu": {},
   "number_sections": true,
   "sideBar": true,
   "skip_h1_title": false,
   "title_cell": "Table of Contents",
   "title_sidebar": "Contents",
   "toc_cell": false,
   "toc_position": {},
   "toc_section_display": true,
   "toc_window_display": false
  },
  "varInspector": {
   "cols": {
    "lenName": 16,
    "lenType": 16,
    "lenVar": 40
   },
   "kernels_config": {
    "python": {
     "delete_cmd_postfix": "",
     "delete_cmd_prefix": "del ",
     "library": "var_list.py",
     "varRefreshCmd": "print(var_dic_list())"
    },
    "r": {
     "delete_cmd_postfix": ") ",
     "delete_cmd_prefix": "rm(",
     "library": "var_list.r",
     "varRefreshCmd": "cat(var_dic_list()) "
    }
   },
   "types_to_exclude": [
    "module",
    "function",
    "builtin_function_or_method",
    "instance",
    "_Feature"
   ],
   "window_display": false
  }
 },
 "nbformat": 4,
 "nbformat_minor": 4
}
