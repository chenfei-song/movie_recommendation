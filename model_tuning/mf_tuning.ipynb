{
 "cells": [
  {
   "cell_type": "markdown",
   "metadata": {},
   "source": [
    "# Tuning the MF model"
   ]
  },
  {
   "cell_type": "code",
   "execution_count": 3,
   "metadata": {
    "ExecuteTime": {
     "end_time": "2020-12-18T11:32:46.452243Z",
     "start_time": "2020-12-18T11:32:46.448338Z"
    }
   },
   "outputs": [],
   "source": [
    "# basic packages\n",
    "import pandas as pd\n",
    "import numpy as np\n",
    "\n",
    "import pyspark\n",
    "from pyspark.sql import SparkSession\n",
    "from pyspark.sql.functions import *\n",
    "from pyspark.sql.window import Window\n",
    "from pyspark.sql.types import *\n",
    "from pyspark.ml.evaluation import RegressionEvaluator\n",
    "from pyspark.ml.recommendation import ALS\n",
    "from pyspark.ml.tuning import CrossValidator, ParamGridBuilder  \n",
    "\n",
    "import sys\n",
    "sys.path.append('../model')\n",
    "from helper import *"
   ]
  },
  {
   "cell_type": "code",
   "execution_count": 4,
   "metadata": {
    "ExecuteTime": {
     "end_time": "2020-12-18T11:32:58.301956Z",
     "start_time": "2020-12-18T11:32:48.474447Z"
    }
   },
   "outputs": [],
   "source": [
    "#load data\n",
    "df = pd.read_csv('../ml-latest/ratings.csv')\n",
    "df_tag = pd.read_csv('../ml-latest/genome-scores.csv')"
   ]
  },
  {
   "cell_type": "code",
   "execution_count": 5,
   "metadata": {
    "ExecuteTime": {
     "end_time": "2020-12-18T11:33:38.668222Z",
     "start_time": "2020-12-18T11:33:32.073713Z"
    }
   },
   "outputs": [
    {
     "name": "stdout",
     "output_type": "stream",
     "text": [
      "number of users: 20000\n",
      "number of items: 1000\n",
      "number of ratings: 1179969\n"
     ]
    }
   ],
   "source": [
    "#sampling\n",
    "df_sample = sample_df(df, user_thresh=20, item_thresh=500)\n"
   ]
  },
  {
   "cell_type": "code",
   "execution_count": 7,
   "metadata": {
    "ExecuteTime": {
     "end_time": "2020-12-18T11:35:38.525930Z",
     "start_time": "2020-12-18T11:34:45.364340Z"
    }
   },
   "outputs": [
    {
     "name": "stdout",
     "output_type": "stream",
     "text": [
      "952005\n",
      "227964\n",
      "(1000, 20000)\n",
      "(1000, 20000)\n"
     ]
    }
   ],
   "source": [
    "#train test split\n",
    "train_df, test_df = train_test_split_by_time(df_sample)\n",
    "print(len(train_df))\n",
    "print(len(test_df))\n",
    "\n",
    "rating_train = train_df.pivot(index='movieId', columns='userId', values='rating')\n",
    "rating_test = test_df.pivot(index='movieId', columns='userId', values='rating')\n",
    "print(rating_train.shape)\n",
    "print(rating_test.shape)"
   ]
  },
  {
   "cell_type": "code",
   "execution_count": 8,
   "metadata": {
    "ExecuteTime": {
     "end_time": "2020-12-18T11:36:26.828894Z",
     "start_time": "2020-12-18T11:35:51.041179Z"
    }
   },
   "outputs": [],
   "source": [
    "#initialize spark \n",
    "spark = SparkSession.builder.appName(\"PySpark ALS Model\").getOrCreate() \n",
    "train = spark.createDataFrame(train_df)  \n",
    "test = spark.createDataFrame(test_df)  "
   ]
  },
  {
   "cell_type": "code",
   "execution_count": 9,
   "metadata": {
    "ExecuteTime": {
     "end_time": "2020-12-18T11:36:44.085202Z",
     "start_time": "2020-12-18T11:36:43.713862Z"
    }
   },
   "outputs": [],
   "source": [
    "#build model\n",
    "als = ALS(maxIter=20, regParam=0.1, rank=5, userCol=\"userId\", itemCol=\"movieId\", ratingCol=\"rating\",\n",
    "          coldStartStrategy=\"drop\")"
   ]
  },
  {
   "cell_type": "code",
   "execution_count": 11,
   "metadata": {
    "ExecuteTime": {
     "end_time": "2020-12-14T04:06:59.681916Z",
     "start_time": "2020-12-14T03:55:27.909327Z"
    }
   },
   "outputs": [],
   "source": [
    "#Tune \n",
    "maxIter_list = [5, 15, 25]\n",
    "regParam_list = [ 0.1, 0.01]\n",
    "rank_list = [5, 10, 15]\n",
    "\n",
    "paramGrid = ParamGridBuilder() \\\n",
    "    .addGrid(als.maxIter,maxIter_list) \\\n",
    "    .addGrid(als.regParam, regParam_list) \\\n",
    "    .addGrid(als.rank,rank_list)\\\n",
    "    .build()\n",
    "\n",
    "crossval = CrossValidator(estimator=als,\n",
    "                          estimatorParamMaps=paramGrid,\n",
    "                          evaluator=RegressionEvaluator(metricName=\"rmse\", labelCol=\"rating\",\n",
    "                                predictionCol=\"prediction\"),\n",
    "                          numFolds=3)  # use 3+ folds in practice\n",
    "\n",
    "# Run cross-validation, and choose the best set of parameters.\n",
    "cvModel = crossval.fit(train)\n",
    "\n",
    "\n",
    "# Make predictions on test documents. cvModel uses the best model found (lrModel).\n",
    "prediction = cvModel.transform(test) "
   ]
  },
  {
   "cell_type": "code",
   "execution_count": 12,
   "metadata": {
    "ExecuteTime": {
     "end_time": "2020-12-14T04:08:32.498639Z",
     "start_time": "2020-12-14T04:08:32.492872Z"
    }
   },
   "outputs": [
    {
     "name": "stdout",
     "output_type": "stream",
     "text": [
      "Best Params: {Param(parent='ALS_1f9bb683974a', name='maxIter', doc='max number of iterations (>= 0).'): 25, Param(parent='ALS_1f9bb683974a', name='regParam', doc='regularization parameter (>= 0).'): 0.1, Param(parent='ALS_1f9bb683974a', name='rank', doc='rank of the factorization'): 10}\n",
      "The miniest mae: 0.8173732374741887\n"
     ]
    }
   ],
   "source": [
    "paramMaps = cvModel.getEstimatorParamMaps()\n",
    "results = np.array(cvModel.avgMetrics)\n",
    "bestparams = paramMaps[np.argmin(results)]\n",
    "print(\"Best Params:\", bestparams)\n",
    "print(\"The miniest mae:\", np.min(results)) "
   ]
  }
 ],
 "metadata": {
  "kernelspec": {
   "display_name": "Python 3",
   "language": "python",
   "name": "python3"
  },
  "language_info": {
   "codemirror_mode": {
    "name": "ipython",
    "version": 3
   },
   "file_extension": ".py",
   "mimetype": "text/x-python",
   "name": "python",
   "nbconvert_exporter": "python",
   "pygments_lexer": "ipython3",
   "version": "3.7.6"
  },
  "toc": {
   "base_numbering": 1,
   "nav_menu": {},
   "number_sections": true,
   "sideBar": true,
   "skip_h1_title": false,
   "title_cell": "Table of Contents",
   "title_sidebar": "Contents",
   "toc_cell": false,
   "toc_position": {},
   "toc_section_display": true,
   "toc_window_display": false
  },
  "varInspector": {
   "cols": {
    "lenName": 16,
    "lenType": 16,
    "lenVar": 40
   },
   "kernels_config": {
    "python": {
     "delete_cmd_postfix": "",
     "delete_cmd_prefix": "del ",
     "library": "var_list.py",
     "varRefreshCmd": "print(var_dic_list())"
    },
    "r": {
     "delete_cmd_postfix": ") ",
     "delete_cmd_prefix": "rm(",
     "library": "var_list.r",
     "varRefreshCmd": "cat(var_dic_list()) "
    }
   },
   "types_to_exclude": [
    "module",
    "function",
    "builtin_function_or_method",
    "instance",
    "_Feature"
   ],
   "window_display": false
  }
 },
 "nbformat": 4,
 "nbformat_minor": 4
}
